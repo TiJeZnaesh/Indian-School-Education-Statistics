{
 "cells": [
  {
   "cell_type": "markdown",
   "id": "d8b15e88-8492-47b4-9867-b43e4cf0dd6a",
   "metadata": {},
   "source": [
    "## Indian School Education Statistics\n",
    "https://www.kaggle.com/datasets/vidyapb/indian-school-education-statistics\n",
    "\n",
    "Данный проект имеет задачу прогнозирования валового охвата в 2015-2016 годах с использованием данных сессии 2012-2015 годов, таких как процент отсева, наличие воды и компьютерного оборудования. Решение задачи основано на проблеме классификации, где общее количество учащихся разделено на две группы.\n",
    "\n",
    "Ниже приведены этапы, выполненные в данном проекте:\n",
    "\n",
    "1. Импортируются необходимые библиотеки и загружаются данные из CSV-файлов.\n",
    "2. Выполняется предварительная обработка данных, включая исправление имен штатов и заполнение пропущенных значений с помощью метода SimpleImputer.\n",
    "3. Данные о проценте отсева обрабатываются для создания средних значений для каждого типа учащихся и уровня образования (первичное, среднее, старшее и высшее).\n",
    "4. Аналогичные шаги выполняются для данных о наличии воды, компьютерного оборудования, электричества и туалетов для мальчиков и девочек.\n",
    "5. Создаются наборы данных для каждого уровня образования, объединяя средние значения различных параметров.\n",
    "6. Подготавливаются наборы данных для оценки, включая данные за 2015-2016 годы.\n",
    "7. Строятся модели машинного обучения для каждого уровня образования, в данном случае Random Forest Classifier.\n",
    "8. Оценивается производительность моделей с помощью различных метрик, таких как accuracy score, roc-auc score, precision score, log loss, f1 score и mean squared error."
   ]
  },
  {
   "cell_type": "code",
   "execution_count": 1,
   "id": "4d91cdfe-038c-42f1-ae27-c44a35523796",
   "metadata": {},
   "outputs": [],
   "source": [
    "#нужно для того, что бы скрывать ворнинги \n",
    "import warnings\n",
    "warnings.filterwarnings('ignore')\n",
    "\n",
    "import pandas as pd\n",
    "import numpy as np\n",
    "import matplotlib.pyplot as plt\n",
    "import seaborn as sns\n",
    "from sklearn.impute import SimpleImputer #нужно для заполнения пропусков\n",
    "from sklearn.model_selection import train_test_split #для создания подвыборок\n",
    "from sklearn.ensemble import RandomForestClassifier\n",
    "from sklearn.model_selection import StratifiedKFold, KFold #кроссвалидация\n",
    "from sklearn.metrics import accuracy_score, roc_auc_score, precision_score, log_loss, f1_score, mean_squared_error"
   ]
  },
  {
   "cell_type": "code",
   "execution_count": 2,
   "id": "3efee2ef-8eba-43de-92fa-a7a66a365bb6",
   "metadata": {},
   "outputs": [],
   "source": [
    "drop_out = pd.read_csv('dropout-ratio-2012-2015.csv')\n",
    "enrol = pd.read_csv('gross-enrollment-ratio-2013-2016.csv')\n",
    "comp = pd.read_csv('percentage-of-schools-with-comps-2013-2016.csv')\n",
    "elect = pd.read_csv('percentage-of-schools-with-electricity-2013-2016.csv')\n",
    "water = pd.read_csv('percentage-of-schools-with-water-facility-2013-2016.csv')\n",
    "boys = pd.read_csv('schools-with-boys-toilet-2013-2016.csv')\n",
    "girls = pd.read_csv('schools-with-girls-toilet-2013-2016.csv')"
   ]
  },
  {
   "cell_type": "code",
   "execution_count": 3,
   "id": "d531c5b9-efbd-4760-b31b-3b6a2c2f74fa",
   "metadata": {},
   "outputs": [],
   "source": [
    "drop_out['State_UT'] = drop_out['State_UT'].apply(lambda x: \"Arunachal Pradesh\" if x == 'Arunachal  Pradesh' else x)\n",
    "drop_out['State_UT'] = drop_out['State_UT'].apply(lambda x: \"Madhya Pradesh\" if x == 'Madhya  Pradesh' else x)\n",
    "drop_out['State_UT'] = drop_out['State_UT'].apply(lambda x: \"Tamil Nadu\" if x == 'Tamil  Nadu' else x)\n",
    "drop_out['State_UT'] = drop_out['State_UT'].apply(lambda x: \"Andaman & Nicobar Islands\" if x == 'A & N Islands' else x)"
   ]
  },
  {
   "cell_type": "code",
   "execution_count": 4,
   "id": "968ecdb4-f067-4c72-adbd-382386669299",
   "metadata": {},
   "outputs": [],
   "source": [
    "drop_out.sort_values(by=['State_UT','year'],inplace=True,ignore_index=True)\n",
    "enrol.sort_values(by=['State_UT','Year'], inplace=True,ignore_index=True)\n",
    "comp.sort_values(by=['State_UT','year'], inplace=True,ignore_index=True)\n",
    "elect.sort_values(by=['State_UT','year'], inplace=True,ignore_index=True)\n",
    "water.sort_values(by=['State/UT','Year'], inplace=True,ignore_index=True)\n",
    "boys.sort_values(by=['State_UT','year'], inplace=True,ignore_index=True)\n",
    "girls.sort_values(by=['State_UT','year'], inplace=True,ignore_index=True)"
   ]
  },
  {
   "cell_type": "code",
   "execution_count": 5,
   "id": "3e503a0f-4961-4819-9dbd-df0ae448e887",
   "metadata": {},
   "outputs": [
    {
     "data": {
      "text/html": [
       "<div>\n",
       "<style scoped>\n",
       "    .dataframe tbody tr th:only-of-type {\n",
       "        vertical-align: middle;\n",
       "    }\n",
       "\n",
       "    .dataframe tbody tr th {\n",
       "        vertical-align: top;\n",
       "    }\n",
       "\n",
       "    .dataframe thead th {\n",
       "        text-align: right;\n",
       "    }\n",
       "</style>\n",
       "<table border=\"1\" class=\"dataframe\">\n",
       "  <thead>\n",
       "    <tr style=\"text-align: right;\">\n",
       "      <th></th>\n",
       "      <th>State_UT</th>\n",
       "      <th>year</th>\n",
       "      <th>Primary_Only</th>\n",
       "      <th>Primary_with_U_Primary</th>\n",
       "      <th>Primary_with_U_Primary_Sec_HrSec</th>\n",
       "      <th>U_Primary_Only</th>\n",
       "      <th>U_Primary_With_Sec_HrSec</th>\n",
       "      <th>Primary_with_U_Primary_Sec</th>\n",
       "      <th>U_Primary_With_Sec</th>\n",
       "      <th>Sec_Only</th>\n",
       "      <th>Sec_with_HrSec.</th>\n",
       "      <th>HrSec_Only</th>\n",
       "      <th>All Schools</th>\n",
       "    </tr>\n",
       "  </thead>\n",
       "  <tbody>\n",
       "    <tr>\n",
       "      <th>0</th>\n",
       "      <td>All India</td>\n",
       "      <td>2013-14</td>\n",
       "      <td>46.38</td>\n",
       "      <td>69.56</td>\n",
       "      <td>94.92</td>\n",
       "      <td>45.97</td>\n",
       "      <td>93.72</td>\n",
       "      <td>83.12</td>\n",
       "      <td>86.84</td>\n",
       "      <td>75.08</td>\n",
       "      <td>82.88</td>\n",
       "      <td>91.01</td>\n",
       "      <td>56.78</td>\n",
       "    </tr>\n",
       "    <tr>\n",
       "      <th>1</th>\n",
       "      <td>All India</td>\n",
       "      <td>2014-15</td>\n",
       "      <td>49.63</td>\n",
       "      <td>73.26</td>\n",
       "      <td>95.27</td>\n",
       "      <td>48.33</td>\n",
       "      <td>94.81</td>\n",
       "      <td>84.03</td>\n",
       "      <td>89.14</td>\n",
       "      <td>77.55</td>\n",
       "      <td>83.85</td>\n",
       "      <td>92.67</td>\n",
       "      <td>60.01</td>\n",
       "    </tr>\n",
       "    <tr>\n",
       "      <th>2</th>\n",
       "      <td>All India</td>\n",
       "      <td>2015-16</td>\n",
       "      <td>52.40</td>\n",
       "      <td>76.44</td>\n",
       "      <td>94.81</td>\n",
       "      <td>49.86</td>\n",
       "      <td>94.48</td>\n",
       "      <td>88.10</td>\n",
       "      <td>90.82</td>\n",
       "      <td>81.50</td>\n",
       "      <td>86.85</td>\n",
       "      <td>92.86</td>\n",
       "      <td>62.81</td>\n",
       "    </tr>\n",
       "  </tbody>\n",
       "</table>\n",
       "</div>"
      ],
      "text/plain": [
       "    State_UT     year  Primary_Only  Primary_with_U_Primary  \\\n",
       "0  All India  2013-14         46.38                   69.56   \n",
       "1  All India  2014-15         49.63                   73.26   \n",
       "2  All India  2015-16         52.40                   76.44   \n",
       "\n",
       "   Primary_with_U_Primary_Sec_HrSec  U_Primary_Only  U_Primary_With_Sec_HrSec  \\\n",
       "0                             94.92           45.97                     93.72   \n",
       "1                             95.27           48.33                     94.81   \n",
       "2                             94.81           49.86                     94.48   \n",
       "\n",
       "   Primary_with_U_Primary_Sec  U_Primary_With_Sec  Sec_Only  Sec_with_HrSec.  \\\n",
       "0                       83.12               86.84     75.08            82.88   \n",
       "1                       84.03               89.14     77.55            83.85   \n",
       "2                       88.10               90.82     81.50            86.85   \n",
       "\n",
       "   HrSec_Only  All Schools  \n",
       "0       91.01        56.78  \n",
       "1       92.67        60.01  \n",
       "2       92.86        62.81  "
      ]
     },
     "execution_count": 5,
     "metadata": {},
     "output_type": "execute_result"
    }
   ],
   "source": [
    "elect.head(3)"
   ]
  },
  {
   "cell_type": "code",
   "execution_count": 6,
   "id": "3f25bf8c-6de7-4853-95c6-f9f95caa6860",
   "metadata": {},
   "outputs": [
    {
     "data": {
      "text/html": [
       "<div>\n",
       "<style scoped>\n",
       "    .dataframe tbody tr th:only-of-type {\n",
       "        vertical-align: middle;\n",
       "    }\n",
       "\n",
       "    .dataframe tbody tr th {\n",
       "        vertical-align: top;\n",
       "    }\n",
       "\n",
       "    .dataframe thead th {\n",
       "        text-align: right;\n",
       "    }\n",
       "</style>\n",
       "<table border=\"1\" class=\"dataframe\">\n",
       "  <thead>\n",
       "    <tr style=\"text-align: right;\">\n",
       "      <th></th>\n",
       "      <th>State_UT</th>\n",
       "      <th>year</th>\n",
       "      <th>Primary_Only</th>\n",
       "      <th>Primary_with_U_Primary</th>\n",
       "      <th>Primary_with_U_Primary_Sec_HrSec</th>\n",
       "      <th>U_Primary_Only</th>\n",
       "      <th>U_Primary_With_Sec_HrSec</th>\n",
       "      <th>Primary_with_U_Primary_Sec</th>\n",
       "      <th>U_Primary_With_Sec</th>\n",
       "      <th>Sec_Only</th>\n",
       "      <th>Sec_with_HrSec.</th>\n",
       "      <th>HrSec_Only</th>\n",
       "      <th>All Schools</th>\n",
       "    </tr>\n",
       "  </thead>\n",
       "  <tbody>\n",
       "    <tr>\n",
       "      <th>0</th>\n",
       "      <td>All India</td>\n",
       "      <td>2013-14</td>\n",
       "      <td>9.25</td>\n",
       "      <td>42.14</td>\n",
       "      <td>82.67</td>\n",
       "      <td>18.22</td>\n",
       "      <td>76.50</td>\n",
       "      <td>64.69</td>\n",
       "      <td>59.25</td>\n",
       "      <td>44.80</td>\n",
       "      <td>39.31</td>\n",
       "      <td>26.65</td>\n",
       "      <td>24.08</td>\n",
       "    </tr>\n",
       "    <tr>\n",
       "      <th>1</th>\n",
       "      <td>All India</td>\n",
       "      <td>2014-15</td>\n",
       "      <td>10.32</td>\n",
       "      <td>44.39</td>\n",
       "      <td>81.96</td>\n",
       "      <td>19.40</td>\n",
       "      <td>79.86</td>\n",
       "      <td>62.66</td>\n",
       "      <td>68.11</td>\n",
       "      <td>51.27</td>\n",
       "      <td>50.26</td>\n",
       "      <td>47.96</td>\n",
       "      <td>26.42</td>\n",
       "    </tr>\n",
       "    <tr>\n",
       "      <th>2</th>\n",
       "      <td>All India</td>\n",
       "      <td>2015-16</td>\n",
       "      <td>10.36</td>\n",
       "      <td>45.46</td>\n",
       "      <td>79.06</td>\n",
       "      <td>19.78</td>\n",
       "      <td>82.04</td>\n",
       "      <td>68.67</td>\n",
       "      <td>68.40</td>\n",
       "      <td>53.05</td>\n",
       "      <td>54.05</td>\n",
       "      <td>55.72</td>\n",
       "      <td>27.31</td>\n",
       "    </tr>\n",
       "  </tbody>\n",
       "</table>\n",
       "</div>"
      ],
      "text/plain": [
       "    State_UT     year  Primary_Only  Primary_with_U_Primary  \\\n",
       "0  All India  2013-14          9.25                   42.14   \n",
       "1  All India  2014-15         10.32                   44.39   \n",
       "2  All India  2015-16         10.36                   45.46   \n",
       "\n",
       "   Primary_with_U_Primary_Sec_HrSec  U_Primary_Only  U_Primary_With_Sec_HrSec  \\\n",
       "0                             82.67           18.22                     76.50   \n",
       "1                             81.96           19.40                     79.86   \n",
       "2                             79.06           19.78                     82.04   \n",
       "\n",
       "   Primary_with_U_Primary_Sec  U_Primary_With_Sec  Sec_Only  Sec_with_HrSec.  \\\n",
       "0                       64.69               59.25     44.80            39.31   \n",
       "1                       62.66               68.11     51.27            50.26   \n",
       "2                       68.67               68.40     53.05            54.05   \n",
       "\n",
       "   HrSec_Only  All Schools  \n",
       "0       26.65        24.08  \n",
       "1       47.96        26.42  \n",
       "2       55.72        27.31  "
      ]
     },
     "execution_count": 6,
     "metadata": {},
     "output_type": "execute_result"
    }
   ],
   "source": [
    "comp.head(3)"
   ]
  },
  {
   "cell_type": "code",
   "execution_count": 7,
   "id": "0f1e6e13-3178-4728-9e8c-1eb9f562fa78",
   "metadata": {},
   "outputs": [],
   "source": [
    "def CreateDataSets(mean_dataframes, tier):\n",
    "    columns = mean_dataframes.columns.to_list()[0:]\n",
    "    index = mean_dataframes[columns[0]]\n",
    "    print('Create Dataset with {} features'.format(len(columns))) \n",
    "\n",
    "    if tier == 1:\n",
    "        coresult_1 = mean_dataframes[columns[1]]\n",
    "        coresult_2 = mean_dataframes[columns[2]]\n",
    "        coresult_3 = mean_dataframes[columns[3]]\n",
    "    elif tier == 2:\n",
    "        coresult_1 = mean_dataframes[columns[4]]\n",
    "        coresult_2 = mean_dataframes[columns[5]]\n",
    "        coresult_3 = mean_dataframes[columns[6]]\n",
    "    elif tier == 3:\n",
    "        coresult_1 = mean_dataframes[columns[7]]\n",
    "        coresult_2 = mean_dataframes[columns[8]]\n",
    "        coresult_3 = mean_dataframes[columns[9]]\n",
    "\n",
    "    elif tier == 4:\n",
    "        coresult_1 = mean_dataframes[columns[10]]\n",
    "        coresult_2 = mean_dataframes[columns[11]]\n",
    "        if len(columns)>12: coresult_3 = mean_dataframes[columns[12]]\n",
    "        else: coresult_3 = pd.Series(np.ones(len(mean_dataframes)))\n",
    "        \n",
    "    result = pd.DataFrame(pd.concat([index, coresult_1,coresult_2,coresult_3], axis = 1))\n",
    "    result.set_index('State_UT', inplace=True)\n",
    "    return result"
   ]
  },
  {
   "cell_type": "code",
   "execution_count": 8,
   "id": "b72fcd54-f848-42bd-af55-f70bc27d9f56",
   "metadata": {},
   "outputs": [],
   "source": [
    "def get_df_name(df):\n",
    "    name =[x for x in globals() if globals()[x] is df][0]\n",
    "    return name + '_'\n",
    "\n",
    "def PreprocessFiles(dataframe, categories, year_filter=['2013-14','2014-15'], year='year', city = 'State_UT'):\n",
    "    '''\n",
    "    year_filter: years to be used while aggregating the dataset\n",
    "    '''\n",
    "    \n",
    "    tmp = []\n",
    "    if len(year_filter)>1:\n",
    "        for categ in categories:\n",
    "            dataframe[categ] = dataframe[categ].astype(float)                # Если тип данных наших числовых функций является объектом, нам нужно изменить его на float.\n",
    "            tmp.append(pd.DataFrame({'mean_' + categ : dataframe.iloc[np.where( (dataframe[year]==year_filter[0]) | (dataframe[year]==year_filter[1]))].groupby([city])[categ].mean()}))  \n",
    "    \n",
    "    else:\n",
    "        for categ in categories:\n",
    "            dataframe[categ] = dataframe[categ].astype(float)                # Если тип данных наших числовых функций является объектом, нам нужно изменить его на float.\n",
    "            tmp.append(pd.DataFrame({'mean_' + categ : dataframe.iloc[np.where( (dataframe[year]==year_filter[0]) )].groupby([city])[categ].mean()}))  \n",
    "    \n",
    "    mean_dataframe_per_state = pd.DataFrame(tmp[0])     # Первоначально добавляем первый тип категории учащихся в DataFrame, чтобы упростить использование pd.merge().\n",
    "    for Stu_type in range(1, len(tmp)):           # Начиная с индекса 1, так как я уже инициализировал наш фрейм данных с первым типом Student \n",
    "        tmp[Stu_type].reset_index(inplace = True)\n",
    "        mean_dataframe_per_state = pd.merge(mean_dataframe_per_state, tmp[Stu_type], on = city) \n",
    "    columns = mean_dataframe_per_state.columns.to_list()\n",
    "\n",
    "    new_cols_name = [city]\n",
    "    new_cols_name.extend([get_df_name(dataframe) + col for col in columns if col != city])\n",
    "    mapper = {columns[i]: new_cols_name[i] for i in range(len(columns))} \n",
    "    mean_dataframe_per_state.rename(columns = mapper, inplace=True)\n",
    "    \n",
    "    return mean_dataframe_per_state"
   ]
  },
  {
   "cell_type": "code",
   "execution_count": 9,
   "id": "d49115c6-5c3c-4cf9-b3ce-a20c10e2e2d8",
   "metadata": {},
   "outputs": [
    {
     "data": {
      "text/html": [
       "<div>\n",
       "<style scoped>\n",
       "    .dataframe tbody tr th:only-of-type {\n",
       "        vertical-align: middle;\n",
       "    }\n",
       "\n",
       "    .dataframe tbody tr th {\n",
       "        vertical-align: top;\n",
       "    }\n",
       "\n",
       "    .dataframe thead th {\n",
       "        text-align: right;\n",
       "    }\n",
       "</style>\n",
       "<table border=\"1\" class=\"dataframe\">\n",
       "  <thead>\n",
       "    <tr style=\"text-align: right;\">\n",
       "      <th></th>\n",
       "      <th>State_UT</th>\n",
       "      <th>year</th>\n",
       "      <th>Primary_Boys</th>\n",
       "      <th>Primary_Girls</th>\n",
       "      <th>Primary_Total</th>\n",
       "      <th>Upper Primary_Boys</th>\n",
       "      <th>Upper Primary_Girls</th>\n",
       "      <th>Upper Primary_Total</th>\n",
       "      <th>Secondary _Boys</th>\n",
       "      <th>Secondary _Girls</th>\n",
       "      <th>Secondary _Total</th>\n",
       "      <th>HrSecondary_Boys</th>\n",
       "      <th>HrSecondary_Girls</th>\n",
       "      <th>HrSecondary_Total</th>\n",
       "    </tr>\n",
       "  </thead>\n",
       "  <tbody>\n",
       "    <tr>\n",
       "      <th>0</th>\n",
       "      <td>All India</td>\n",
       "      <td>2012-13</td>\n",
       "      <td>4.68</td>\n",
       "      <td>4.66</td>\n",
       "      <td>4.67</td>\n",
       "      <td>2.3</td>\n",
       "      <td>4.01</td>\n",
       "      <td>3.13</td>\n",
       "      <td>14.54</td>\n",
       "      <td>14.54</td>\n",
       "      <td>14.54</td>\n",
       "      <td>NR</td>\n",
       "      <td>NR</td>\n",
       "      <td>NR</td>\n",
       "    </tr>\n",
       "    <tr>\n",
       "      <th>1</th>\n",
       "      <td>All India</td>\n",
       "      <td>2013-14</td>\n",
       "      <td>4.53</td>\n",
       "      <td>4.14</td>\n",
       "      <td>4.34</td>\n",
       "      <td>3.09</td>\n",
       "      <td>4.49</td>\n",
       "      <td>3.77</td>\n",
       "      <td>17.93</td>\n",
       "      <td>17.79</td>\n",
       "      <td>17.86</td>\n",
       "      <td>1.48</td>\n",
       "      <td>1.61</td>\n",
       "      <td>1.54</td>\n",
       "    </tr>\n",
       "    <tr>\n",
       "      <th>2</th>\n",
       "      <td>All India</td>\n",
       "      <td>2014-15</td>\n",
       "      <td>4.36</td>\n",
       "      <td>3.88</td>\n",
       "      <td>4.13</td>\n",
       "      <td>3.49</td>\n",
       "      <td>4.6</td>\n",
       "      <td>4.03</td>\n",
       "      <td>17.21</td>\n",
       "      <td>16.88</td>\n",
       "      <td>17.06</td>\n",
       "      <td>0.25</td>\n",
       "      <td>NR</td>\n",
       "      <td>NR</td>\n",
       "    </tr>\n",
       "  </tbody>\n",
       "</table>\n",
       "</div>"
      ],
      "text/plain": [
       "    State_UT     year Primary_Boys Primary_Girls Primary_Total  \\\n",
       "0  All India  2012-13         4.68          4.66          4.67   \n",
       "1  All India  2013-14         4.53          4.14          4.34   \n",
       "2  All India  2014-15         4.36          3.88          4.13   \n",
       "\n",
       "  Upper Primary_Boys Upper Primary_Girls Upper Primary_Total Secondary _Boys  \\\n",
       "0                2.3                4.01                3.13           14.54   \n",
       "1               3.09                4.49                3.77           17.93   \n",
       "2               3.49                 4.6                4.03           17.21   \n",
       "\n",
       "  Secondary _Girls Secondary _Total HrSecondary_Boys HrSecondary_Girls  \\\n",
       "0            14.54            14.54               NR                NR   \n",
       "1            17.79            17.86             1.48              1.61   \n",
       "2            16.88            17.06             0.25                NR   \n",
       "\n",
       "  HrSecondary_Total  \n",
       "0                NR  \n",
       "1              1.54  \n",
       "2                NR  "
      ]
     },
     "execution_count": 9,
     "metadata": {},
     "output_type": "execute_result"
    }
   ],
   "source": [
    "drop_out.head(3)"
   ]
  },
  {
   "cell_type": "code",
   "execution_count": 10,
   "id": "58515f12-5261-44eb-a3bf-7cf768492829",
   "metadata": {},
   "outputs": [],
   "source": [
    "imputer = SimpleImputer(missing_values = 'NR', strategy='constant', fill_value=0)\n",
    "imputer_1 = SimpleImputer(missing_values = 'Uppe_r_Primary', strategy='constant', fill_value=0)"
   ]
  },
  {
   "cell_type": "code",
   "execution_count": 11,
   "id": "bed3c3f1-2c9b-4b33-8cb9-cc9ba35b06fd",
   "metadata": {},
   "outputs": [],
   "source": [
    "drop_out_cols = drop_out.columns.to_list()\n",
    "drop_out = imputer.fit_transform(drop_out)\n",
    "drop_out = pd.DataFrame(imputer_1.fit_transform(drop_out), columns=drop_out_cols)"
   ]
  },
  {
   "cell_type": "code",
   "execution_count": 12,
   "id": "f146dc1a-cdf5-48af-95b6-6334edc67c53",
   "metadata": {},
   "outputs": [],
   "source": [
    "mean_drop_out_per_state = PreprocessFiles(drop_out, drop_out.columns[2:], year_filter=['2012-13', '2013-14'])"
   ]
  },
  {
   "cell_type": "code",
   "execution_count": 13,
   "id": "94d7f7e0-bfa3-4b4d-a70e-f16c4e230f48",
   "metadata": {},
   "outputs": [],
   "source": [
    "test_drop_out = PreprocessFiles(drop_out, drop_out.columns[2:], year_filter=['2014-15'])"
   ]
  },
  {
   "cell_type": "code",
   "execution_count": 14,
   "id": "4867a382-55ce-4abe-8f60-5ecddcc7ad15",
   "metadata": {},
   "outputs": [
    {
     "data": {
      "text/html": [
       "<div>\n",
       "<style scoped>\n",
       "    .dataframe tbody tr th:only-of-type {\n",
       "        vertical-align: middle;\n",
       "    }\n",
       "\n",
       "    .dataframe tbody tr th {\n",
       "        vertical-align: top;\n",
       "    }\n",
       "\n",
       "    .dataframe thead th {\n",
       "        text-align: right;\n",
       "    }\n",
       "</style>\n",
       "<table border=\"1\" class=\"dataframe\">\n",
       "  <thead>\n",
       "    <tr style=\"text-align: right;\">\n",
       "      <th></th>\n",
       "      <th>State_UT</th>\n",
       "      <th>drop_out_mean_Primary_Boys</th>\n",
       "      <th>drop_out_mean_Primary_Girls</th>\n",
       "      <th>drop_out_mean_Primary_Total</th>\n",
       "      <th>drop_out_mean_Upper Primary_Boys</th>\n",
       "      <th>drop_out_mean_Upper Primary_Girls</th>\n",
       "      <th>drop_out_mean_Upper Primary_Total</th>\n",
       "      <th>drop_out_mean_Secondary _Boys</th>\n",
       "      <th>drop_out_mean_Secondary _Girls</th>\n",
       "      <th>drop_out_mean_Secondary _Total</th>\n",
       "      <th>drop_out_mean_HrSecondary_Boys</th>\n",
       "      <th>drop_out_mean_HrSecondary_Girls</th>\n",
       "      <th>drop_out_mean_HrSecondary_Total</th>\n",
       "    </tr>\n",
       "  </thead>\n",
       "  <tbody>\n",
       "    <tr>\n",
       "      <th>0</th>\n",
       "      <td>All India</td>\n",
       "      <td>4.605</td>\n",
       "      <td>4.400</td>\n",
       "      <td>4.505</td>\n",
       "      <td>2.695</td>\n",
       "      <td>4.250</td>\n",
       "      <td>3.45</td>\n",
       "      <td>16.235</td>\n",
       "      <td>16.165</td>\n",
       "      <td>16.200</td>\n",
       "      <td>0.740</td>\n",
       "      <td>0.805</td>\n",
       "      <td>0.770</td>\n",
       "    </tr>\n",
       "    <tr>\n",
       "      <th>1</th>\n",
       "      <td>Andaman &amp; Nicobar Islands</td>\n",
       "      <td>1.090</td>\n",
       "      <td>0.785</td>\n",
       "      <td>0.945</td>\n",
       "      <td>0.000</td>\n",
       "      <td>1.315</td>\n",
       "      <td>0.87</td>\n",
       "      <td>6.965</td>\n",
       "      <td>5.765</td>\n",
       "      <td>6.380</td>\n",
       "      <td>18.300</td>\n",
       "      <td>11.175</td>\n",
       "      <td>15.005</td>\n",
       "    </tr>\n",
       "    <tr>\n",
       "      <th>2</th>\n",
       "      <td>Andhra Pradesh</td>\n",
       "      <td>3.805</td>\n",
       "      <td>3.720</td>\n",
       "      <td>3.765</td>\n",
       "      <td>3.335</td>\n",
       "      <td>3.815</td>\n",
       "      <td>3.57</td>\n",
       "      <td>12.080</td>\n",
       "      <td>13.310</td>\n",
       "      <td>12.685</td>\n",
       "      <td>7.655</td>\n",
       "      <td>5.425</td>\n",
       "      <td>6.070</td>\n",
       "    </tr>\n",
       "  </tbody>\n",
       "</table>\n",
       "</div>"
      ],
      "text/plain": [
       "                    State_UT  drop_out_mean_Primary_Boys  \\\n",
       "0                  All India                       4.605   \n",
       "1  Andaman & Nicobar Islands                       1.090   \n",
       "2             Andhra Pradesh                       3.805   \n",
       "\n",
       "   drop_out_mean_Primary_Girls  drop_out_mean_Primary_Total  \\\n",
       "0                        4.400                        4.505   \n",
       "1                        0.785                        0.945   \n",
       "2                        3.720                        3.765   \n",
       "\n",
       "   drop_out_mean_Upper Primary_Boys  drop_out_mean_Upper Primary_Girls  \\\n",
       "0                             2.695                              4.250   \n",
       "1                             0.000                              1.315   \n",
       "2                             3.335                              3.815   \n",
       "\n",
       "   drop_out_mean_Upper Primary_Total  drop_out_mean_Secondary _Boys  \\\n",
       "0                               3.45                         16.235   \n",
       "1                               0.87                          6.965   \n",
       "2                               3.57                         12.080   \n",
       "\n",
       "   drop_out_mean_Secondary _Girls  drop_out_mean_Secondary _Total  \\\n",
       "0                          16.165                          16.200   \n",
       "1                           5.765                           6.380   \n",
       "2                          13.310                          12.685   \n",
       "\n",
       "   drop_out_mean_HrSecondary_Boys  drop_out_mean_HrSecondary_Girls  \\\n",
       "0                           0.740                            0.805   \n",
       "1                          18.300                           11.175   \n",
       "2                           7.655                            5.425   \n",
       "\n",
       "   drop_out_mean_HrSecondary_Total  \n",
       "0                            0.770  \n",
       "1                           15.005  \n",
       "2                            6.070  "
      ]
     },
     "execution_count": 14,
     "metadata": {},
     "output_type": "execute_result"
    }
   ],
   "source": [
    "mean_drop_out_per_state.head(3)"
   ]
  },
  {
   "cell_type": "code",
   "execution_count": 15,
   "id": "43a463fa-0a28-4faf-bd18-2d165d4fb78e",
   "metadata": {},
   "outputs": [
    {
     "name": "stdout",
     "output_type": "stream",
     "text": [
      "Create Dataset with 13 features\n",
      "Create Dataset with 13 features\n",
      "Create Dataset with 13 features\n",
      "Create Dataset with 13 features\n"
     ]
    }
   ],
   "source": [
    "primary_drop_out = CreateDataSets(mean_drop_out_per_state, 1)\n",
    "upp_drop_out = CreateDataSets(mean_drop_out_per_state, 2)\n",
    "sec_drop_out = CreateDataSets(mean_drop_out_per_state, 3)\n",
    "higher_drop_out = CreateDataSets(mean_drop_out_per_state, 4)"
   ]
  },
  {
   "cell_type": "code",
   "execution_count": 16,
   "id": "c94412f9-c501-4f7c-9f2c-24c5755f8622",
   "metadata": {},
   "outputs": [
    {
     "name": "stdout",
     "output_type": "stream",
     "text": [
      "Create Dataset with 13 features\n",
      "Create Dataset with 13 features\n",
      "Create Dataset with 13 features\n",
      "Create Dataset with 13 features\n"
     ]
    }
   ],
   "source": [
    "eval_primary_drop_out = CreateDataSets(test_drop_out, 1)\n",
    "eval_upp_drop_out = CreateDataSets(test_drop_out, 2)\n",
    "eval_sec_drop_out = CreateDataSets(test_drop_out, 3)\n",
    "eval_higher_drop_out = CreateDataSets(test_drop_out, 4)"
   ]
  },
  {
   "cell_type": "code",
   "execution_count": 17,
   "id": "1e7ee62d-aa8a-4e10-83d2-e052829323b5",
   "metadata": {},
   "outputs": [
    {
     "data": {
      "text/html": [
       "<div>\n",
       "<style scoped>\n",
       "    .dataframe tbody tr th:only-of-type {\n",
       "        vertical-align: middle;\n",
       "    }\n",
       "\n",
       "    .dataframe tbody tr th {\n",
       "        vertical-align: top;\n",
       "    }\n",
       "\n",
       "    .dataframe thead th {\n",
       "        text-align: right;\n",
       "    }\n",
       "</style>\n",
       "<table border=\"1\" class=\"dataframe\">\n",
       "  <thead>\n",
       "    <tr style=\"text-align: right;\">\n",
       "      <th></th>\n",
       "      <th>State_UT</th>\n",
       "      <th>year</th>\n",
       "      <th>Primary_Only</th>\n",
       "      <th>Primary_with_U_Primary</th>\n",
       "      <th>Primary_with_U_Primary_Sec_HrSec</th>\n",
       "      <th>U_Primary_Only</th>\n",
       "      <th>U_Primary_With_Sec_HrSec</th>\n",
       "      <th>Primary_with_U_Primary_Sec</th>\n",
       "      <th>U_Primary_With_Sec</th>\n",
       "      <th>Sec_Only</th>\n",
       "      <th>Sec_with_HrSec.</th>\n",
       "      <th>HrSec_Only</th>\n",
       "      <th>All Schools</th>\n",
       "    </tr>\n",
       "  </thead>\n",
       "  <tbody>\n",
       "    <tr>\n",
       "      <th>0</th>\n",
       "      <td>All India</td>\n",
       "      <td>2013-14</td>\n",
       "      <td>84.01</td>\n",
       "      <td>91.44</td>\n",
       "      <td>97.91</td>\n",
       "      <td>88.14</td>\n",
       "      <td>96.05</td>\n",
       "      <td>94.51</td>\n",
       "      <td>80.89</td>\n",
       "      <td>97.97</td>\n",
       "      <td>94.68</td>\n",
       "      <td>74.36</td>\n",
       "      <td>86.56</td>\n",
       "    </tr>\n",
       "    <tr>\n",
       "      <th>1</th>\n",
       "      <td>All India</td>\n",
       "      <td>2014-15</td>\n",
       "      <td>85.66</td>\n",
       "      <td>93.93</td>\n",
       "      <td>98.59</td>\n",
       "      <td>88.12</td>\n",
       "      <td>98.63</td>\n",
       "      <td>96.35</td>\n",
       "      <td>87.28</td>\n",
       "      <td>89.10</td>\n",
       "      <td>93.09</td>\n",
       "      <td>88.97</td>\n",
       "      <td>88.62</td>\n",
       "    </tr>\n",
       "    <tr>\n",
       "      <th>2</th>\n",
       "      <td>All India</td>\n",
       "      <td>2015-16</td>\n",
       "      <td>96.45</td>\n",
       "      <td>98.40</td>\n",
       "      <td>99.38</td>\n",
       "      <td>96.00</td>\n",
       "      <td>99.51</td>\n",
       "      <td>98.84</td>\n",
       "      <td>98.04</td>\n",
       "      <td>94.56</td>\n",
       "      <td>97.97</td>\n",
       "      <td>95.67</td>\n",
       "      <td>97.02</td>\n",
       "    </tr>\n",
       "  </tbody>\n",
       "</table>\n",
       "</div>"
      ],
      "text/plain": [
       "    State_UT     year  Primary_Only  Primary_with_U_Primary  \\\n",
       "0  All India  2013-14         84.01                   91.44   \n",
       "1  All India  2014-15         85.66                   93.93   \n",
       "2  All India  2015-16         96.45                   98.40   \n",
       "\n",
       "   Primary_with_U_Primary_Sec_HrSec  U_Primary_Only  U_Primary_With_Sec_HrSec  \\\n",
       "0                             97.91           88.14                     96.05   \n",
       "1                             98.59           88.12                     98.63   \n",
       "2                             99.38           96.00                     99.51   \n",
       "\n",
       "   Primary_with_U_Primary_Sec  U_Primary_With_Sec  Sec_Only  Sec_with_HrSec.  \\\n",
       "0                       94.51               80.89     97.97            94.68   \n",
       "1                       96.35               87.28     89.10            93.09   \n",
       "2                       98.84               98.04     94.56            97.97   \n",
       "\n",
       "   HrSec_Only  All Schools  \n",
       "0       74.36        86.56  \n",
       "1       88.97        88.62  \n",
       "2       95.67        97.02  "
      ]
     },
     "execution_count": 17,
     "metadata": {},
     "output_type": "execute_result"
    }
   ],
   "source": [
    "boys.head(3)"
   ]
  },
  {
   "cell_type": "code",
   "execution_count": 18,
   "id": "b0faeb19-8b85-45bb-9b1e-f9d06b33bea7",
   "metadata": {},
   "outputs": [],
   "source": [
    "mean_boys_per_state = PreprocessFiles(boys, boys.columns[2:])"
   ]
  },
  {
   "cell_type": "code",
   "execution_count": 19,
   "id": "962f7978-0d40-4a44-aa71-44f46348a353",
   "metadata": {},
   "outputs": [],
   "source": [
    "test_boys = PreprocessFiles(boys, boys.columns[2:], year_filter=['2015-16'])"
   ]
  },
  {
   "cell_type": "code",
   "execution_count": 20,
   "id": "779f00fe-31cd-4d43-a044-3c659c621393",
   "metadata": {},
   "outputs": [
    {
     "data": {
      "text/html": [
       "<div>\n",
       "<style scoped>\n",
       "    .dataframe tbody tr th:only-of-type {\n",
       "        vertical-align: middle;\n",
       "    }\n",
       "\n",
       "    .dataframe tbody tr th {\n",
       "        vertical-align: top;\n",
       "    }\n",
       "\n",
       "    .dataframe thead th {\n",
       "        text-align: right;\n",
       "    }\n",
       "</style>\n",
       "<table border=\"1\" class=\"dataframe\">\n",
       "  <thead>\n",
       "    <tr style=\"text-align: right;\">\n",
       "      <th></th>\n",
       "      <th>State_UT</th>\n",
       "      <th>boys_mean_Primary_Only</th>\n",
       "      <th>boys_mean_Primary_with_U_Primary</th>\n",
       "      <th>boys_mean_Primary_with_U_Primary_Sec_HrSec</th>\n",
       "      <th>boys_mean_U_Primary_Only</th>\n",
       "      <th>boys_mean_U_Primary_With_Sec_HrSec</th>\n",
       "      <th>boys_mean_Primary_with_U_Primary_Sec</th>\n",
       "      <th>boys_mean_U_Primary_With_Sec</th>\n",
       "      <th>boys_mean_Sec_Only</th>\n",
       "      <th>boys_mean_Sec_with_HrSec.</th>\n",
       "      <th>boys_mean_HrSec_Only</th>\n",
       "      <th>boys_mean_All Schools</th>\n",
       "    </tr>\n",
       "  </thead>\n",
       "  <tbody>\n",
       "    <tr>\n",
       "      <th>0</th>\n",
       "      <td>All India</td>\n",
       "      <td>84.835</td>\n",
       "      <td>92.685</td>\n",
       "      <td>98.250</td>\n",
       "      <td>88.130</td>\n",
       "      <td>97.34</td>\n",
       "      <td>95.430</td>\n",
       "      <td>84.085</td>\n",
       "      <td>93.535</td>\n",
       "      <td>93.885</td>\n",
       "      <td>81.665</td>\n",
       "      <td>87.59</td>\n",
       "    </tr>\n",
       "    <tr>\n",
       "      <th>1</th>\n",
       "      <td>Andaman &amp; Nicobar Islands</td>\n",
       "      <td>95.790</td>\n",
       "      <td>98.685</td>\n",
       "      <td>100.000</td>\n",
       "      <td>50.000</td>\n",
       "      <td>100.00</td>\n",
       "      <td>100.000</td>\n",
       "      <td>0.000</td>\n",
       "      <td>0.000</td>\n",
       "      <td>100.000</td>\n",
       "      <td>0.000</td>\n",
       "      <td>97.26</td>\n",
       "    </tr>\n",
       "    <tr>\n",
       "      <th>2</th>\n",
       "      <td>Andhra Pradesh</td>\n",
       "      <td>55.470</td>\n",
       "      <td>69.545</td>\n",
       "      <td>89.025</td>\n",
       "      <td>60.225</td>\n",
       "      <td>78.72</td>\n",
       "      <td>83.835</td>\n",
       "      <td>69.310</td>\n",
       "      <td>69.955</td>\n",
       "      <td>72.855</td>\n",
       "      <td>79.990</td>\n",
       "      <td>61.11</td>\n",
       "    </tr>\n",
       "  </tbody>\n",
       "</table>\n",
       "</div>"
      ],
      "text/plain": [
       "                    State_UT  boys_mean_Primary_Only  \\\n",
       "0                  All India                  84.835   \n",
       "1  Andaman & Nicobar Islands                  95.790   \n",
       "2             Andhra Pradesh                  55.470   \n",
       "\n",
       "   boys_mean_Primary_with_U_Primary  \\\n",
       "0                            92.685   \n",
       "1                            98.685   \n",
       "2                            69.545   \n",
       "\n",
       "   boys_mean_Primary_with_U_Primary_Sec_HrSec  boys_mean_U_Primary_Only  \\\n",
       "0                                      98.250                    88.130   \n",
       "1                                     100.000                    50.000   \n",
       "2                                      89.025                    60.225   \n",
       "\n",
       "   boys_mean_U_Primary_With_Sec_HrSec  boys_mean_Primary_with_U_Primary_Sec  \\\n",
       "0                               97.34                                95.430   \n",
       "1                              100.00                               100.000   \n",
       "2                               78.72                                83.835   \n",
       "\n",
       "   boys_mean_U_Primary_With_Sec  boys_mean_Sec_Only  \\\n",
       "0                        84.085              93.535   \n",
       "1                         0.000               0.000   \n",
       "2                        69.310              69.955   \n",
       "\n",
       "   boys_mean_Sec_with_HrSec.  boys_mean_HrSec_Only  boys_mean_All Schools  \n",
       "0                     93.885                81.665                  87.59  \n",
       "1                    100.000                 0.000                  97.26  \n",
       "2                     72.855                79.990                  61.11  "
      ]
     },
     "execution_count": 20,
     "metadata": {},
     "output_type": "execute_result"
    }
   ],
   "source": [
    "mean_boys_per_state.head(3)"
   ]
  },
  {
   "cell_type": "code",
   "execution_count": 21,
   "id": "28653971-63ff-4dfe-8ad9-f0f2cf044162",
   "metadata": {},
   "outputs": [
    {
     "name": "stdout",
     "output_type": "stream",
     "text": [
      "Create Dataset with 12 features\n",
      "Create Dataset with 12 features\n",
      "Create Dataset with 12 features\n",
      "Create Dataset with 12 features\n"
     ]
    }
   ],
   "source": [
    "primary_boys = CreateDataSets(mean_boys_per_state, 1)\n",
    "upp_boys = CreateDataSets(mean_boys_per_state, 2)\n",
    "sec_boys = CreateDataSets(mean_boys_per_state, 3)\n",
    "higher_boys = CreateDataSets(mean_boys_per_state, 4)"
   ]
  },
  {
   "cell_type": "code",
   "execution_count": 22,
   "id": "2c0be215-7f4a-44f1-a03e-81a101315df2",
   "metadata": {},
   "outputs": [],
   "source": [
    "higher_boys.drop(columns=[0], inplace=True)"
   ]
  },
  {
   "cell_type": "code",
   "execution_count": 23,
   "id": "1d086075-8e35-4888-81cb-f6dba8346e49",
   "metadata": {},
   "outputs": [
    {
     "data": {
      "text/html": [
       "<div>\n",
       "<style scoped>\n",
       "    .dataframe tbody tr th:only-of-type {\n",
       "        vertical-align: middle;\n",
       "    }\n",
       "\n",
       "    .dataframe tbody tr th {\n",
       "        vertical-align: top;\n",
       "    }\n",
       "\n",
       "    .dataframe thead th {\n",
       "        text-align: right;\n",
       "    }\n",
       "</style>\n",
       "<table border=\"1\" class=\"dataframe\">\n",
       "  <thead>\n",
       "    <tr style=\"text-align: right;\">\n",
       "      <th></th>\n",
       "      <th>boys_mean_HrSec_Only</th>\n",
       "      <th>boys_mean_All Schools</th>\n",
       "    </tr>\n",
       "    <tr>\n",
       "      <th>State_UT</th>\n",
       "      <th></th>\n",
       "      <th></th>\n",
       "    </tr>\n",
       "  </thead>\n",
       "  <tbody>\n",
       "    <tr>\n",
       "      <th>All India</th>\n",
       "      <td>81.665</td>\n",
       "      <td>87.59</td>\n",
       "    </tr>\n",
       "    <tr>\n",
       "      <th>Andaman &amp; Nicobar Islands</th>\n",
       "      <td>0.000</td>\n",
       "      <td>97.26</td>\n",
       "    </tr>\n",
       "  </tbody>\n",
       "</table>\n",
       "</div>"
      ],
      "text/plain": [
       "                           boys_mean_HrSec_Only  boys_mean_All Schools\n",
       "State_UT                                                              \n",
       "All India                                81.665                  87.59\n",
       "Andaman & Nicobar Islands                 0.000                  97.26"
      ]
     },
     "execution_count": 23,
     "metadata": {},
     "output_type": "execute_result"
    }
   ],
   "source": [
    "higher_boys.head(2)"
   ]
  },
  {
   "cell_type": "code",
   "execution_count": 24,
   "id": "9cd7b15a-8a7f-4f82-bc7c-572a864f45d7",
   "metadata": {},
   "outputs": [
    {
     "name": "stdout",
     "output_type": "stream",
     "text": [
      "Create Dataset with 12 features\n",
      "Create Dataset with 12 features\n",
      "Create Dataset with 12 features\n",
      "Create Dataset with 12 features\n"
     ]
    }
   ],
   "source": [
    "eval_primary_boys = CreateDataSets(test_boys, 1)\n",
    "eval_upp_boys = CreateDataSets(test_boys, 2)\n",
    "eval_sec_boys = CreateDataSets(test_boys, 3)\n",
    "eval_higher_boys = CreateDataSets(test_boys, 4)"
   ]
  },
  {
   "cell_type": "code",
   "execution_count": 25,
   "id": "0a0882b0-1473-4b27-8fb2-25b1aa47406a",
   "metadata": {},
   "outputs": [],
   "source": [
    "eval_higher_boys.drop(columns=[0], inplace=True)"
   ]
  },
  {
   "cell_type": "code",
   "execution_count": 26,
   "id": "29cd4625-a731-41bf-8b3b-353f66aabf72",
   "metadata": {},
   "outputs": [],
   "source": [
    "mean_girls_per_state = PreprocessFiles(girls, girls.columns[2:])"
   ]
  },
  {
   "cell_type": "code",
   "execution_count": 27,
   "id": "0a65b299-5cae-406d-9712-2b8569aa3281",
   "metadata": {},
   "outputs": [],
   "source": [
    "test_girls = PreprocessFiles(girls, girls.columns[2:], year_filter=['2015-16'])"
   ]
  },
  {
   "cell_type": "code",
   "execution_count": 28,
   "id": "44a513a9-61f9-479c-bb63-e5efdf1e64a4",
   "metadata": {},
   "outputs": [
    {
     "data": {
      "text/html": [
       "<div>\n",
       "<style scoped>\n",
       "    .dataframe tbody tr th:only-of-type {\n",
       "        vertical-align: middle;\n",
       "    }\n",
       "\n",
       "    .dataframe tbody tr th {\n",
       "        vertical-align: top;\n",
       "    }\n",
       "\n",
       "    .dataframe thead th {\n",
       "        text-align: right;\n",
       "    }\n",
       "</style>\n",
       "<table border=\"1\" class=\"dataframe\">\n",
       "  <thead>\n",
       "    <tr style=\"text-align: right;\">\n",
       "      <th></th>\n",
       "      <th>State_UT</th>\n",
       "      <th>girls_mean_Primary_Only</th>\n",
       "      <th>girls_mean_Primary_with_U_Primary</th>\n",
       "      <th>girls_mean_Primary_with_U_Primary_Sec_HrSec</th>\n",
       "      <th>girls_mean_U_Primary_Only</th>\n",
       "      <th>girls_mean_U_Primary_With_Sec_HrSec</th>\n",
       "      <th>girls_mean_Primary_with_U_Primary_Sec</th>\n",
       "      <th>girls_mean_U_Primary_With_Sec</th>\n",
       "      <th>girls_mean_Sec_Only</th>\n",
       "      <th>girls_mean_Sec_with_HrSec.</th>\n",
       "      <th>girls_mean_HrSec_Only</th>\n",
       "      <th>girls_mean_All Schools</th>\n",
       "    </tr>\n",
       "  </thead>\n",
       "  <tbody>\n",
       "    <tr>\n",
       "      <th>0</th>\n",
       "      <td>All India</td>\n",
       "      <td>89.945</td>\n",
       "      <td>96.450</td>\n",
       "      <td>99.145</td>\n",
       "      <td>91.39</td>\n",
       "      <td>98.74</td>\n",
       "      <td>97.760</td>\n",
       "      <td>95.505</td>\n",
       "      <td>94.66</td>\n",
       "      <td>96.205</td>\n",
       "      <td>83.54</td>\n",
       "      <td>92.155</td>\n",
       "    </tr>\n",
       "    <tr>\n",
       "      <th>1</th>\n",
       "      <td>Andaman &amp; Nicobar Islands</td>\n",
       "      <td>94.870</td>\n",
       "      <td>98.685</td>\n",
       "      <td>100.000</td>\n",
       "      <td>50.00</td>\n",
       "      <td>100.00</td>\n",
       "      <td>100.000</td>\n",
       "      <td>0.000</td>\n",
       "      <td>0.00</td>\n",
       "      <td>100.000</td>\n",
       "      <td>0.00</td>\n",
       "      <td>96.720</td>\n",
       "    </tr>\n",
       "    <tr>\n",
       "      <th>2</th>\n",
       "      <td>Andhra Pradesh</td>\n",
       "      <td>86.975</td>\n",
       "      <td>94.135</td>\n",
       "      <td>98.600</td>\n",
       "      <td>90.91</td>\n",
       "      <td>84.06</td>\n",
       "      <td>95.125</td>\n",
       "      <td>95.560</td>\n",
       "      <td>90.98</td>\n",
       "      <td>85.715</td>\n",
       "      <td>85.10</td>\n",
       "      <td>89.690</td>\n",
       "    </tr>\n",
       "  </tbody>\n",
       "</table>\n",
       "</div>"
      ],
      "text/plain": [
       "                    State_UT  girls_mean_Primary_Only  \\\n",
       "0                  All India                   89.945   \n",
       "1  Andaman & Nicobar Islands                   94.870   \n",
       "2             Andhra Pradesh                   86.975   \n",
       "\n",
       "   girls_mean_Primary_with_U_Primary  \\\n",
       "0                             96.450   \n",
       "1                             98.685   \n",
       "2                             94.135   \n",
       "\n",
       "   girls_mean_Primary_with_U_Primary_Sec_HrSec  girls_mean_U_Primary_Only  \\\n",
       "0                                       99.145                      91.39   \n",
       "1                                      100.000                      50.00   \n",
       "2                                       98.600                      90.91   \n",
       "\n",
       "   girls_mean_U_Primary_With_Sec_HrSec  girls_mean_Primary_with_U_Primary_Sec  \\\n",
       "0                                98.74                                 97.760   \n",
       "1                               100.00                                100.000   \n",
       "2                                84.06                                 95.125   \n",
       "\n",
       "   girls_mean_U_Primary_With_Sec  girls_mean_Sec_Only  \\\n",
       "0                         95.505                94.66   \n",
       "1                          0.000                 0.00   \n",
       "2                         95.560                90.98   \n",
       "\n",
       "   girls_mean_Sec_with_HrSec.  girls_mean_HrSec_Only  girls_mean_All Schools  \n",
       "0                      96.205                  83.54                  92.155  \n",
       "1                     100.000                   0.00                  96.720  \n",
       "2                      85.715                  85.10                  89.690  "
      ]
     },
     "execution_count": 28,
     "metadata": {},
     "output_type": "execute_result"
    }
   ],
   "source": [
    "mean_girls_per_state.head(3)"
   ]
  },
  {
   "cell_type": "code",
   "execution_count": 29,
   "id": "f3db92f4-4081-4d78-b6b1-e8d9bc16bb43",
   "metadata": {},
   "outputs": [
    {
     "name": "stdout",
     "output_type": "stream",
     "text": [
      "Create Dataset with 12 features\n",
      "Create Dataset with 12 features\n",
      "Create Dataset with 12 features\n",
      "Create Dataset with 12 features\n"
     ]
    }
   ],
   "source": [
    "primary_girls = CreateDataSets(mean_girls_per_state, 1)\n",
    "upp_girls = CreateDataSets(mean_girls_per_state, 2)\n",
    "sec_girls = CreateDataSets(mean_girls_per_state, 3)\n",
    "higher_girls = CreateDataSets(mean_girls_per_state, 4)"
   ]
  },
  {
   "cell_type": "code",
   "execution_count": 30,
   "id": "b0813684-3834-49c2-b39f-b774860f2ce9",
   "metadata": {},
   "outputs": [],
   "source": [
    "higher_girls.drop(columns=[0], inplace=True)"
   ]
  },
  {
   "cell_type": "code",
   "execution_count": 31,
   "id": "ee54fc7f-7ec7-4bcd-824b-85b447a57dd0",
   "metadata": {},
   "outputs": [
    {
     "data": {
      "text/html": [
       "<div>\n",
       "<style scoped>\n",
       "    .dataframe tbody tr th:only-of-type {\n",
       "        vertical-align: middle;\n",
       "    }\n",
       "\n",
       "    .dataframe tbody tr th {\n",
       "        vertical-align: top;\n",
       "    }\n",
       "\n",
       "    .dataframe thead th {\n",
       "        text-align: right;\n",
       "    }\n",
       "</style>\n",
       "<table border=\"1\" class=\"dataframe\">\n",
       "  <thead>\n",
       "    <tr style=\"text-align: right;\">\n",
       "      <th></th>\n",
       "      <th>girls_mean_HrSec_Only</th>\n",
       "      <th>girls_mean_All Schools</th>\n",
       "    </tr>\n",
       "    <tr>\n",
       "      <th>State_UT</th>\n",
       "      <th></th>\n",
       "      <th></th>\n",
       "    </tr>\n",
       "  </thead>\n",
       "  <tbody>\n",
       "    <tr>\n",
       "      <th>All India</th>\n",
       "      <td>83.54</td>\n",
       "      <td>92.155</td>\n",
       "    </tr>\n",
       "    <tr>\n",
       "      <th>Andaman &amp; Nicobar Islands</th>\n",
       "      <td>0.00</td>\n",
       "      <td>96.720</td>\n",
       "    </tr>\n",
       "    <tr>\n",
       "      <th>Andhra Pradesh</th>\n",
       "      <td>85.10</td>\n",
       "      <td>89.690</td>\n",
       "    </tr>\n",
       "  </tbody>\n",
       "</table>\n",
       "</div>"
      ],
      "text/plain": [
       "                           girls_mean_HrSec_Only  girls_mean_All Schools\n",
       "State_UT                                                                \n",
       "All India                                  83.54                  92.155\n",
       "Andaman & Nicobar Islands                   0.00                  96.720\n",
       "Andhra Pradesh                             85.10                  89.690"
      ]
     },
     "execution_count": 31,
     "metadata": {},
     "output_type": "execute_result"
    }
   ],
   "source": [
    "higher_girls.head(3)"
   ]
  },
  {
   "cell_type": "code",
   "execution_count": 32,
   "id": "60c95bf7-7adc-4d84-9e1a-3d46c89af5f7",
   "metadata": {},
   "outputs": [
    {
     "name": "stdout",
     "output_type": "stream",
     "text": [
      "Create Dataset with 12 features\n",
      "Create Dataset with 12 features\n",
      "Create Dataset with 12 features\n",
      "Create Dataset with 12 features\n"
     ]
    }
   ],
   "source": [
    "eval_primary_girls = CreateDataSets(test_girls, 1)\n",
    "eval_upp_girls = CreateDataSets(test_girls, 2)\n",
    "eval_sec_girls = CreateDataSets(test_girls, 3)\n",
    "eval_higher_girls = CreateDataSets(test_girls, 4)"
   ]
  },
  {
   "cell_type": "code",
   "execution_count": 33,
   "id": "d0a43b12-f4a8-45f2-9541-3bef26f67b18",
   "metadata": {},
   "outputs": [],
   "source": [
    "eval_higher_girls.drop(columns=[0], inplace=True)"
   ]
  },
  {
   "cell_type": "code",
   "execution_count": 34,
   "id": "4a466529-7490-4538-a105-3ac0936bd77a",
   "metadata": {},
   "outputs": [
    {
     "data": {
      "text/html": [
       "<div>\n",
       "<style scoped>\n",
       "    .dataframe tbody tr th:only-of-type {\n",
       "        vertical-align: middle;\n",
       "    }\n",
       "\n",
       "    .dataframe tbody tr th {\n",
       "        vertical-align: top;\n",
       "    }\n",
       "\n",
       "    .dataframe thead th {\n",
       "        text-align: right;\n",
       "    }\n",
       "</style>\n",
       "<table border=\"1\" class=\"dataframe\">\n",
       "  <thead>\n",
       "    <tr style=\"text-align: right;\">\n",
       "      <th></th>\n",
       "      <th>State/UT</th>\n",
       "      <th>Year</th>\n",
       "      <th>Primary_Only</th>\n",
       "      <th>Primary_with_U_Primary</th>\n",
       "      <th>Primary_with_U_Primary_Sec_HrSec</th>\n",
       "      <th>U_Primary_Only</th>\n",
       "      <th>U_Primary_With_Sec_HrSec</th>\n",
       "      <th>Primary_with_U_Primary_Sec</th>\n",
       "      <th>U_Primary_With_Sec</th>\n",
       "      <th>Sec_Only</th>\n",
       "      <th>Sec_with_HrSec.</th>\n",
       "      <th>HrSec_Only</th>\n",
       "      <th>All Schools</th>\n",
       "    </tr>\n",
       "  </thead>\n",
       "  <tbody>\n",
       "    <tr>\n",
       "      <th>0</th>\n",
       "      <td>All India</td>\n",
       "      <td>2013-14</td>\n",
       "      <td>94.09</td>\n",
       "      <td>98.18</td>\n",
       "      <td>99.10</td>\n",
       "      <td>93.90</td>\n",
       "      <td>99.20</td>\n",
       "      <td>98.64</td>\n",
       "      <td>97.38</td>\n",
       "      <td>96.52</td>\n",
       "      <td>98.18</td>\n",
       "      <td>97.14</td>\n",
       "      <td>95.40</td>\n",
       "    </tr>\n",
       "    <tr>\n",
       "      <th>1</th>\n",
       "      <td>All India</td>\n",
       "      <td>2014-15</td>\n",
       "      <td>94.88</td>\n",
       "      <td>98.49</td>\n",
       "      <td>99.59</td>\n",
       "      <td>94.82</td>\n",
       "      <td>99.38</td>\n",
       "      <td>98.83</td>\n",
       "      <td>98.49</td>\n",
       "      <td>96.32</td>\n",
       "      <td>98.71</td>\n",
       "      <td>98.23</td>\n",
       "      <td>96.12</td>\n",
       "    </tr>\n",
       "    <tr>\n",
       "      <th>2</th>\n",
       "      <td>All India</td>\n",
       "      <td>2015-16</td>\n",
       "      <td>95.78</td>\n",
       "      <td>98.69</td>\n",
       "      <td>99.39</td>\n",
       "      <td>95.65</td>\n",
       "      <td>99.59</td>\n",
       "      <td>99.21</td>\n",
       "      <td>98.91</td>\n",
       "      <td>97.05</td>\n",
       "      <td>99.18</td>\n",
       "      <td>97.92</td>\n",
       "      <td>96.81</td>\n",
       "    </tr>\n",
       "  </tbody>\n",
       "</table>\n",
       "</div>"
      ],
      "text/plain": [
       "    State/UT     Year  Primary_Only  Primary_with_U_Primary  \\\n",
       "0  All India  2013-14         94.09                   98.18   \n",
       "1  All India  2014-15         94.88                   98.49   \n",
       "2  All India  2015-16         95.78                   98.69   \n",
       "\n",
       "   Primary_with_U_Primary_Sec_HrSec  U_Primary_Only  U_Primary_With_Sec_HrSec  \\\n",
       "0                             99.10           93.90                     99.20   \n",
       "1                             99.59           94.82                     99.38   \n",
       "2                             99.39           95.65                     99.59   \n",
       "\n",
       "   Primary_with_U_Primary_Sec  U_Primary_With_Sec  Sec_Only  Sec_with_HrSec.  \\\n",
       "0                       98.64               97.38     96.52            98.18   \n",
       "1                       98.83               98.49     96.32            98.71   \n",
       "2                       99.21               98.91     97.05            99.18   \n",
       "\n",
       "   HrSec_Only  All Schools  \n",
       "0       97.14        95.40  \n",
       "1       98.23        96.12  \n",
       "2       97.92        96.81  "
      ]
     },
     "execution_count": 34,
     "metadata": {},
     "output_type": "execute_result"
    }
   ],
   "source": [
    "water.head(3)"
   ]
  },
  {
   "cell_type": "code",
   "execution_count": 35,
   "id": "95fa0584-bb1f-4ea2-bf93-5e103a4c60ee",
   "metadata": {},
   "outputs": [],
   "source": [
    "mean_water_facilities = PreprocessFiles(water, water.columns[2:], city ='State/UT', year = 'Year')"
   ]
  },
  {
   "cell_type": "code",
   "execution_count": 36,
   "id": "68fc54f4-a91f-4040-b247-49a7546ba906",
   "metadata": {},
   "outputs": [],
   "source": [
    "test_water_fac = PreprocessFiles(water, water.columns[2:],city ='State/UT', year = 'Year', year_filter=['2015-16'])\n",
    "test_water_fac.rename(columns={'State/UT':'State_UT'}, inplace=True)"
   ]
  },
  {
   "cell_type": "code",
   "execution_count": 37,
   "id": "07a59e27-422f-4965-a9fd-f4a6acfb9abd",
   "metadata": {},
   "outputs": [
    {
     "data": {
      "text/html": [
       "<div>\n",
       "<style scoped>\n",
       "    .dataframe tbody tr th:only-of-type {\n",
       "        vertical-align: middle;\n",
       "    }\n",
       "\n",
       "    .dataframe tbody tr th {\n",
       "        vertical-align: top;\n",
       "    }\n",
       "\n",
       "    .dataframe thead th {\n",
       "        text-align: right;\n",
       "    }\n",
       "</style>\n",
       "<table border=\"1\" class=\"dataframe\">\n",
       "  <thead>\n",
       "    <tr style=\"text-align: right;\">\n",
       "      <th></th>\n",
       "      <th>State/UT</th>\n",
       "      <th>water_mean_Primary_Only</th>\n",
       "      <th>water_mean_Primary_with_U_Primary</th>\n",
       "      <th>water_mean_Primary_with_U_Primary_Sec_HrSec</th>\n",
       "      <th>water_mean_U_Primary_Only</th>\n",
       "      <th>water_mean_U_Primary_With_Sec_HrSec</th>\n",
       "      <th>water_mean_Primary_with_U_Primary_Sec</th>\n",
       "      <th>water_mean_U_Primary_With_Sec</th>\n",
       "      <th>water_mean_Sec_Only</th>\n",
       "      <th>water_mean_Sec_with_HrSec.</th>\n",
       "      <th>water_mean_HrSec_Only</th>\n",
       "      <th>water_mean_All Schools</th>\n",
       "    </tr>\n",
       "  </thead>\n",
       "  <tbody>\n",
       "    <tr>\n",
       "      <th>0</th>\n",
       "      <td>All India</td>\n",
       "      <td>94.485</td>\n",
       "      <td>98.335</td>\n",
       "      <td>99.345</td>\n",
       "      <td>94.360</td>\n",
       "      <td>99.29</td>\n",
       "      <td>98.735</td>\n",
       "      <td>97.935</td>\n",
       "      <td>96.42</td>\n",
       "      <td>98.445</td>\n",
       "      <td>97.685</td>\n",
       "      <td>95.760</td>\n",
       "    </tr>\n",
       "    <tr>\n",
       "      <th>1</th>\n",
       "      <td>Andaman &amp; Nicobar Islands</td>\n",
       "      <td>98.860</td>\n",
       "      <td>98.725</td>\n",
       "      <td>100.000</td>\n",
       "      <td>50.000</td>\n",
       "      <td>100.00</td>\n",
       "      <td>100.000</td>\n",
       "      <td>0.000</td>\n",
       "      <td>0.00</td>\n",
       "      <td>100.000</td>\n",
       "      <td>0.000</td>\n",
       "      <td>99.105</td>\n",
       "    </tr>\n",
       "    <tr>\n",
       "      <th>2</th>\n",
       "      <td>Andhra Pradesh</td>\n",
       "      <td>89.370</td>\n",
       "      <td>95.300</td>\n",
       "      <td>99.830</td>\n",
       "      <td>95.455</td>\n",
       "      <td>88.63</td>\n",
       "      <td>99.200</td>\n",
       "      <td>96.750</td>\n",
       "      <td>98.75</td>\n",
       "      <td>100.000</td>\n",
       "      <td>97.945</td>\n",
       "      <td>92.045</td>\n",
       "    </tr>\n",
       "  </tbody>\n",
       "</table>\n",
       "</div>"
      ],
      "text/plain": [
       "                    State/UT  water_mean_Primary_Only  \\\n",
       "0                  All India                   94.485   \n",
       "1  Andaman & Nicobar Islands                   98.860   \n",
       "2             Andhra Pradesh                   89.370   \n",
       "\n",
       "   water_mean_Primary_with_U_Primary  \\\n",
       "0                             98.335   \n",
       "1                             98.725   \n",
       "2                             95.300   \n",
       "\n",
       "   water_mean_Primary_with_U_Primary_Sec_HrSec  water_mean_U_Primary_Only  \\\n",
       "0                                       99.345                     94.360   \n",
       "1                                      100.000                     50.000   \n",
       "2                                       99.830                     95.455   \n",
       "\n",
       "   water_mean_U_Primary_With_Sec_HrSec  water_mean_Primary_with_U_Primary_Sec  \\\n",
       "0                                99.29                                 98.735   \n",
       "1                               100.00                                100.000   \n",
       "2                                88.63                                 99.200   \n",
       "\n",
       "   water_mean_U_Primary_With_Sec  water_mean_Sec_Only  \\\n",
       "0                         97.935                96.42   \n",
       "1                          0.000                 0.00   \n",
       "2                         96.750                98.75   \n",
       "\n",
       "   water_mean_Sec_with_HrSec.  water_mean_HrSec_Only  water_mean_All Schools  \n",
       "0                      98.445                 97.685                  95.760  \n",
       "1                     100.000                  0.000                  99.105  \n",
       "2                     100.000                 97.945                  92.045  "
      ]
     },
     "execution_count": 37,
     "metadata": {},
     "output_type": "execute_result"
    }
   ],
   "source": [
    "mean_water_facilities.head(3)"
   ]
  },
  {
   "cell_type": "code",
   "execution_count": 38,
   "id": "7f06dd06-cd83-42e8-849a-d21b6d8434b2",
   "metadata": {},
   "outputs": [],
   "source": [
    "mean_water_facilities.rename(columns={'State/UT':'State_UT'}, inplace=True)"
   ]
  },
  {
   "cell_type": "code",
   "execution_count": 39,
   "id": "6d0a054b-e60e-442f-ab01-cdff631380f5",
   "metadata": {},
   "outputs": [
    {
     "name": "stdout",
     "output_type": "stream",
     "text": [
      "Create Dataset with 12 features\n",
      "Create Dataset with 12 features\n",
      "Create Dataset with 12 features\n",
      "Create Dataset with 12 features\n"
     ]
    }
   ],
   "source": [
    "primary_water = CreateDataSets(mean_water_facilities, 1)\n",
    "upp_water = CreateDataSets(mean_water_facilities, 2)\n",
    "sec_water = CreateDataSets(mean_water_facilities, 3)\n",
    "higher_water = CreateDataSets(mean_water_facilities, 4)"
   ]
  },
  {
   "cell_type": "code",
   "execution_count": 40,
   "id": "b67935c8-f8e8-4a12-94dd-3ad0420b4b12",
   "metadata": {},
   "outputs": [],
   "source": [
    "higher_water.drop(columns=[0], inplace=True)"
   ]
  },
  {
   "cell_type": "code",
   "execution_count": 41,
   "id": "42759958-892e-4e81-af1f-0115f40b9056",
   "metadata": {},
   "outputs": [
    {
     "data": {
      "text/html": [
       "<div>\n",
       "<style scoped>\n",
       "    .dataframe tbody tr th:only-of-type {\n",
       "        vertical-align: middle;\n",
       "    }\n",
       "\n",
       "    .dataframe tbody tr th {\n",
       "        vertical-align: top;\n",
       "    }\n",
       "\n",
       "    .dataframe thead th {\n",
       "        text-align: right;\n",
       "    }\n",
       "</style>\n",
       "<table border=\"1\" class=\"dataframe\">\n",
       "  <thead>\n",
       "    <tr style=\"text-align: right;\">\n",
       "      <th></th>\n",
       "      <th>water_mean_HrSec_Only</th>\n",
       "      <th>water_mean_All Schools</th>\n",
       "    </tr>\n",
       "    <tr>\n",
       "      <th>State_UT</th>\n",
       "      <th></th>\n",
       "      <th></th>\n",
       "    </tr>\n",
       "  </thead>\n",
       "  <tbody>\n",
       "    <tr>\n",
       "      <th>All India</th>\n",
       "      <td>97.685</td>\n",
       "      <td>95.760</td>\n",
       "    </tr>\n",
       "    <tr>\n",
       "      <th>Andaman &amp; Nicobar Islands</th>\n",
       "      <td>0.000</td>\n",
       "      <td>99.105</td>\n",
       "    </tr>\n",
       "  </tbody>\n",
       "</table>\n",
       "</div>"
      ],
      "text/plain": [
       "                           water_mean_HrSec_Only  water_mean_All Schools\n",
       "State_UT                                                                \n",
       "All India                                 97.685                  95.760\n",
       "Andaman & Nicobar Islands                  0.000                  99.105"
      ]
     },
     "execution_count": 41,
     "metadata": {},
     "output_type": "execute_result"
    }
   ],
   "source": [
    "higher_water.head(2)"
   ]
  },
  {
   "cell_type": "code",
   "execution_count": 42,
   "id": "409b718b-43ca-41dd-a571-858a4ad62ae5",
   "metadata": {},
   "outputs": [
    {
     "name": "stdout",
     "output_type": "stream",
     "text": [
      "Create Dataset with 12 features\n",
      "Create Dataset with 12 features\n",
      "Create Dataset with 12 features\n",
      "Create Dataset with 12 features\n"
     ]
    }
   ],
   "source": [
    "eval_primary_water_fac = CreateDataSets(test_water_fac, 1)\n",
    "eval_upp_water_fac = CreateDataSets(test_water_fac, 2)\n",
    "eval_sec_water_fac = CreateDataSets(test_water_fac, 3)\n",
    "eval_higher_water_fac = CreateDataSets(test_water_fac, 4)"
   ]
  },
  {
   "cell_type": "code",
   "execution_count": 43,
   "id": "ac91b97a-4fa5-46c2-8c8f-6a3c57e5a772",
   "metadata": {},
   "outputs": [],
   "source": [
    "eval_higher_water_fac.drop(columns=[0], inplace=True)"
   ]
  },
  {
   "cell_type": "code",
   "execution_count": 44,
   "id": "f632b4a0-ea05-4fc2-bb36-47cbc944c08b",
   "metadata": {},
   "outputs": [
    {
     "data": {
      "text/html": [
       "<div>\n",
       "<style scoped>\n",
       "    .dataframe tbody tr th:only-of-type {\n",
       "        vertical-align: middle;\n",
       "    }\n",
       "\n",
       "    .dataframe tbody tr th {\n",
       "        vertical-align: top;\n",
       "    }\n",
       "\n",
       "    .dataframe thead th {\n",
       "        text-align: right;\n",
       "    }\n",
       "</style>\n",
       "<table border=\"1\" class=\"dataframe\">\n",
       "  <thead>\n",
       "    <tr style=\"text-align: right;\">\n",
       "      <th></th>\n",
       "      <th>State_UT</th>\n",
       "      <th>year</th>\n",
       "      <th>Primary_Only</th>\n",
       "      <th>Primary_with_U_Primary</th>\n",
       "      <th>Primary_with_U_Primary_Sec_HrSec</th>\n",
       "      <th>U_Primary_Only</th>\n",
       "      <th>U_Primary_With_Sec_HrSec</th>\n",
       "      <th>Primary_with_U_Primary_Sec</th>\n",
       "      <th>U_Primary_With_Sec</th>\n",
       "      <th>Sec_Only</th>\n",
       "      <th>Sec_with_HrSec.</th>\n",
       "      <th>HrSec_Only</th>\n",
       "      <th>All Schools</th>\n",
       "    </tr>\n",
       "  </thead>\n",
       "  <tbody>\n",
       "    <tr>\n",
       "      <th>0</th>\n",
       "      <td>All India</td>\n",
       "      <td>2013-14</td>\n",
       "      <td>46.38</td>\n",
       "      <td>69.56</td>\n",
       "      <td>94.92</td>\n",
       "      <td>45.97</td>\n",
       "      <td>93.72</td>\n",
       "      <td>83.12</td>\n",
       "      <td>86.84</td>\n",
       "      <td>75.08</td>\n",
       "      <td>82.88</td>\n",
       "      <td>91.01</td>\n",
       "      <td>56.78</td>\n",
       "    </tr>\n",
       "    <tr>\n",
       "      <th>1</th>\n",
       "      <td>All India</td>\n",
       "      <td>2014-15</td>\n",
       "      <td>49.63</td>\n",
       "      <td>73.26</td>\n",
       "      <td>95.27</td>\n",
       "      <td>48.33</td>\n",
       "      <td>94.81</td>\n",
       "      <td>84.03</td>\n",
       "      <td>89.14</td>\n",
       "      <td>77.55</td>\n",
       "      <td>83.85</td>\n",
       "      <td>92.67</td>\n",
       "      <td>60.01</td>\n",
       "    </tr>\n",
       "    <tr>\n",
       "      <th>2</th>\n",
       "      <td>All India</td>\n",
       "      <td>2015-16</td>\n",
       "      <td>52.40</td>\n",
       "      <td>76.44</td>\n",
       "      <td>94.81</td>\n",
       "      <td>49.86</td>\n",
       "      <td>94.48</td>\n",
       "      <td>88.10</td>\n",
       "      <td>90.82</td>\n",
       "      <td>81.50</td>\n",
       "      <td>86.85</td>\n",
       "      <td>92.86</td>\n",
       "      <td>62.81</td>\n",
       "    </tr>\n",
       "  </tbody>\n",
       "</table>\n",
       "</div>"
      ],
      "text/plain": [
       "    State_UT     year  Primary_Only  Primary_with_U_Primary  \\\n",
       "0  All India  2013-14         46.38                   69.56   \n",
       "1  All India  2014-15         49.63                   73.26   \n",
       "2  All India  2015-16         52.40                   76.44   \n",
       "\n",
       "   Primary_with_U_Primary_Sec_HrSec  U_Primary_Only  U_Primary_With_Sec_HrSec  \\\n",
       "0                             94.92           45.97                     93.72   \n",
       "1                             95.27           48.33                     94.81   \n",
       "2                             94.81           49.86                     94.48   \n",
       "\n",
       "   Primary_with_U_Primary_Sec  U_Primary_With_Sec  Sec_Only  Sec_with_HrSec.  \\\n",
       "0                       83.12               86.84     75.08            82.88   \n",
       "1                       84.03               89.14     77.55            83.85   \n",
       "2                       88.10               90.82     81.50            86.85   \n",
       "\n",
       "   HrSec_Only  All Schools  \n",
       "0       91.01        56.78  \n",
       "1       92.67        60.01  \n",
       "2       92.86        62.81  "
      ]
     },
     "execution_count": 44,
     "metadata": {},
     "output_type": "execute_result"
    }
   ],
   "source": [
    "elect.head(3)"
   ]
  },
  {
   "cell_type": "code",
   "execution_count": 45,
   "id": "7cdfd7c7-df08-446a-a60e-5737a7661d3f",
   "metadata": {},
   "outputs": [],
   "source": [
    "mean_elect_facilities = PreprocessFiles(elect, elect.columns[2:])"
   ]
  },
  {
   "cell_type": "code",
   "execution_count": 46,
   "id": "bfad0227-7fd4-46b1-bbcd-c8306d421c25",
   "metadata": {},
   "outputs": [],
   "source": [
    "test_elect_fac = PreprocessFiles(elect, elect.columns[2:], year_filter=['2015-16'])"
   ]
  },
  {
   "cell_type": "code",
   "execution_count": 47,
   "id": "95b01797-9f18-4946-b607-17e1d9348eb4",
   "metadata": {},
   "outputs": [
    {
     "data": {
      "text/html": [
       "<div>\n",
       "<style scoped>\n",
       "    .dataframe tbody tr th:only-of-type {\n",
       "        vertical-align: middle;\n",
       "    }\n",
       "\n",
       "    .dataframe tbody tr th {\n",
       "        vertical-align: top;\n",
       "    }\n",
       "\n",
       "    .dataframe thead th {\n",
       "        text-align: right;\n",
       "    }\n",
       "</style>\n",
       "<table border=\"1\" class=\"dataframe\">\n",
       "  <thead>\n",
       "    <tr style=\"text-align: right;\">\n",
       "      <th></th>\n",
       "      <th>State_UT</th>\n",
       "      <th>elect_mean_Primary_Only</th>\n",
       "      <th>elect_mean_Primary_with_U_Primary</th>\n",
       "      <th>elect_mean_Primary_with_U_Primary_Sec_HrSec</th>\n",
       "      <th>elect_mean_U_Primary_Only</th>\n",
       "      <th>elect_mean_U_Primary_With_Sec_HrSec</th>\n",
       "      <th>elect_mean_Primary_with_U_Primary_Sec</th>\n",
       "      <th>elect_mean_U_Primary_With_Sec</th>\n",
       "      <th>elect_mean_Sec_Only</th>\n",
       "      <th>elect_mean_Sec_with_HrSec.</th>\n",
       "      <th>elect_mean_HrSec_Only</th>\n",
       "      <th>elect_mean_All Schools</th>\n",
       "    </tr>\n",
       "  </thead>\n",
       "  <tbody>\n",
       "    <tr>\n",
       "      <th>0</th>\n",
       "      <td>All India</td>\n",
       "      <td>48.005</td>\n",
       "      <td>71.410</td>\n",
       "      <td>95.095</td>\n",
       "      <td>47.15</td>\n",
       "      <td>94.265</td>\n",
       "      <td>83.575</td>\n",
       "      <td>87.99</td>\n",
       "      <td>76.315</td>\n",
       "      <td>83.365</td>\n",
       "      <td>91.84</td>\n",
       "      <td>58.395</td>\n",
       "    </tr>\n",
       "    <tr>\n",
       "      <th>1</th>\n",
       "      <td>Andaman &amp; Nicobar Islands</td>\n",
       "      <td>81.570</td>\n",
       "      <td>96.175</td>\n",
       "      <td>100.000</td>\n",
       "      <td>50.00</td>\n",
       "      <td>100.000</td>\n",
       "      <td>100.000</td>\n",
       "      <td>0.00</td>\n",
       "      <td>0.000</td>\n",
       "      <td>100.000</td>\n",
       "      <td>0.00</td>\n",
       "      <td>88.875</td>\n",
       "    </tr>\n",
       "    <tr>\n",
       "      <th>2</th>\n",
       "      <td>Andhra Pradesh</td>\n",
       "      <td>89.370</td>\n",
       "      <td>94.135</td>\n",
       "      <td>99.660</td>\n",
       "      <td>100.00</td>\n",
       "      <td>76.795</td>\n",
       "      <td>96.895</td>\n",
       "      <td>96.63</td>\n",
       "      <td>95.525</td>\n",
       "      <td>91.665</td>\n",
       "      <td>92.24</td>\n",
       "      <td>91.550</td>\n",
       "    </tr>\n",
       "  </tbody>\n",
       "</table>\n",
       "</div>"
      ],
      "text/plain": [
       "                    State_UT  elect_mean_Primary_Only  \\\n",
       "0                  All India                   48.005   \n",
       "1  Andaman & Nicobar Islands                   81.570   \n",
       "2             Andhra Pradesh                   89.370   \n",
       "\n",
       "   elect_mean_Primary_with_U_Primary  \\\n",
       "0                             71.410   \n",
       "1                             96.175   \n",
       "2                             94.135   \n",
       "\n",
       "   elect_mean_Primary_with_U_Primary_Sec_HrSec  elect_mean_U_Primary_Only  \\\n",
       "0                                       95.095                      47.15   \n",
       "1                                      100.000                      50.00   \n",
       "2                                       99.660                     100.00   \n",
       "\n",
       "   elect_mean_U_Primary_With_Sec_HrSec  elect_mean_Primary_with_U_Primary_Sec  \\\n",
       "0                               94.265                                 83.575   \n",
       "1                              100.000                                100.000   \n",
       "2                               76.795                                 96.895   \n",
       "\n",
       "   elect_mean_U_Primary_With_Sec  elect_mean_Sec_Only  \\\n",
       "0                          87.99               76.315   \n",
       "1                           0.00                0.000   \n",
       "2                          96.63               95.525   \n",
       "\n",
       "   elect_mean_Sec_with_HrSec.  elect_mean_HrSec_Only  elect_mean_All Schools  \n",
       "0                      83.365                  91.84                  58.395  \n",
       "1                     100.000                   0.00                  88.875  \n",
       "2                      91.665                  92.24                  91.550  "
      ]
     },
     "execution_count": 47,
     "metadata": {},
     "output_type": "execute_result"
    }
   ],
   "source": [
    "mean_elect_facilities.head(3)"
   ]
  },
  {
   "cell_type": "code",
   "execution_count": 48,
   "id": "bcc00936-cbad-468c-9ade-7e071602a912",
   "metadata": {},
   "outputs": [
    {
     "name": "stdout",
     "output_type": "stream",
     "text": [
      "Create Dataset with 12 features\n",
      "Create Dataset with 12 features\n",
      "Create Dataset with 12 features\n",
      "Create Dataset with 12 features\n"
     ]
    }
   ],
   "source": [
    "primary_elect = CreateDataSets(mean_elect_facilities, 1)\n",
    "upp_elect = CreateDataSets(mean_elect_facilities, 2)\n",
    "sec_elect = CreateDataSets(mean_elect_facilities, 3)\n",
    "higher_elect = CreateDataSets(mean_elect_facilities, 4)"
   ]
  },
  {
   "cell_type": "code",
   "execution_count": 49,
   "id": "85ea4e31-fbe2-4e35-a55c-a572bd5c408a",
   "metadata": {},
   "outputs": [],
   "source": [
    "higher_elect.drop(columns=[0], inplace=True)"
   ]
  },
  {
   "cell_type": "code",
   "execution_count": 50,
   "id": "8a853644-e92a-4a7d-b6fc-4aa3a774e4b8",
   "metadata": {},
   "outputs": [
    {
     "data": {
      "text/html": [
       "<div>\n",
       "<style scoped>\n",
       "    .dataframe tbody tr th:only-of-type {\n",
       "        vertical-align: middle;\n",
       "    }\n",
       "\n",
       "    .dataframe tbody tr th {\n",
       "        vertical-align: top;\n",
       "    }\n",
       "\n",
       "    .dataframe thead th {\n",
       "        text-align: right;\n",
       "    }\n",
       "</style>\n",
       "<table border=\"1\" class=\"dataframe\">\n",
       "  <thead>\n",
       "    <tr style=\"text-align: right;\">\n",
       "      <th></th>\n",
       "      <th>elect_mean_U_Primary_Only</th>\n",
       "      <th>elect_mean_U_Primary_With_Sec_HrSec</th>\n",
       "      <th>elect_mean_Primary_with_U_Primary_Sec</th>\n",
       "    </tr>\n",
       "    <tr>\n",
       "      <th>State_UT</th>\n",
       "      <th></th>\n",
       "      <th></th>\n",
       "      <th></th>\n",
       "    </tr>\n",
       "  </thead>\n",
       "  <tbody>\n",
       "    <tr>\n",
       "      <th>All India</th>\n",
       "      <td>47.15</td>\n",
       "      <td>94.265</td>\n",
       "      <td>83.575</td>\n",
       "    </tr>\n",
       "    <tr>\n",
       "      <th>Andaman &amp; Nicobar Islands</th>\n",
       "      <td>50.00</td>\n",
       "      <td>100.000</td>\n",
       "      <td>100.000</td>\n",
       "    </tr>\n",
       "  </tbody>\n",
       "</table>\n",
       "</div>"
      ],
      "text/plain": [
       "                           elect_mean_U_Primary_Only  \\\n",
       "State_UT                                               \n",
       "All India                                      47.15   \n",
       "Andaman & Nicobar Islands                      50.00   \n",
       "\n",
       "                           elect_mean_U_Primary_With_Sec_HrSec  \\\n",
       "State_UT                                                         \n",
       "All India                                               94.265   \n",
       "Andaman & Nicobar Islands                              100.000   \n",
       "\n",
       "                           elect_mean_Primary_with_U_Primary_Sec  \n",
       "State_UT                                                          \n",
       "All India                                                 83.575  \n",
       "Andaman & Nicobar Islands                                100.000  "
      ]
     },
     "execution_count": 50,
     "metadata": {},
     "output_type": "execute_result"
    }
   ],
   "source": [
    "upp_elect.head(2)"
   ]
  },
  {
   "cell_type": "code",
   "execution_count": 51,
   "id": "3a625df0-af08-499c-aa21-c367ce26766b",
   "metadata": {},
   "outputs": [
    {
     "name": "stdout",
     "output_type": "stream",
     "text": [
      "Create Dataset with 12 features\n",
      "Create Dataset with 12 features\n",
      "Create Dataset with 12 features\n",
      "Create Dataset with 12 features\n"
     ]
    }
   ],
   "source": [
    "eval_primary_elect_fac = CreateDataSets(test_elect_fac, 1)\n",
    "eval_upp_elect_fac = CreateDataSets(test_elect_fac, 2)\n",
    "eval_sec_elect_fac = CreateDataSets(test_elect_fac, 3)\n",
    "eval_higher_elect_fac = CreateDataSets(test_elect_fac, 4)"
   ]
  },
  {
   "cell_type": "code",
   "execution_count": 52,
   "id": "53cf9bcb-eae7-4c07-987c-87512a7b2b03",
   "metadata": {},
   "outputs": [],
   "source": [
    "eval_higher_elect_fac.drop(columns=[0], inplace=True)"
   ]
  },
  {
   "cell_type": "code",
   "execution_count": 53,
   "id": "83ab4d90-6d9e-4f02-b4c9-098aca8a267b",
   "metadata": {},
   "outputs": [
    {
     "data": {
      "text/html": [
       "<div>\n",
       "<style scoped>\n",
       "    .dataframe tbody tr th:only-of-type {\n",
       "        vertical-align: middle;\n",
       "    }\n",
       "\n",
       "    .dataframe tbody tr th {\n",
       "        vertical-align: top;\n",
       "    }\n",
       "\n",
       "    .dataframe thead th {\n",
       "        text-align: right;\n",
       "    }\n",
       "</style>\n",
       "<table border=\"1\" class=\"dataframe\">\n",
       "  <thead>\n",
       "    <tr style=\"text-align: right;\">\n",
       "      <th></th>\n",
       "      <th>State_UT</th>\n",
       "      <th>year</th>\n",
       "      <th>Primary_Only</th>\n",
       "      <th>Primary_with_U_Primary</th>\n",
       "      <th>Primary_with_U_Primary_Sec_HrSec</th>\n",
       "      <th>U_Primary_Only</th>\n",
       "      <th>U_Primary_With_Sec_HrSec</th>\n",
       "      <th>Primary_with_U_Primary_Sec</th>\n",
       "      <th>U_Primary_With_Sec</th>\n",
       "      <th>Sec_Only</th>\n",
       "      <th>Sec_with_HrSec.</th>\n",
       "      <th>HrSec_Only</th>\n",
       "      <th>All Schools</th>\n",
       "    </tr>\n",
       "  </thead>\n",
       "  <tbody>\n",
       "    <tr>\n",
       "      <th>0</th>\n",
       "      <td>All India</td>\n",
       "      <td>2013-14</td>\n",
       "      <td>9.25</td>\n",
       "      <td>42.14</td>\n",
       "      <td>82.67</td>\n",
       "      <td>18.22</td>\n",
       "      <td>76.50</td>\n",
       "      <td>64.69</td>\n",
       "      <td>59.25</td>\n",
       "      <td>44.80</td>\n",
       "      <td>39.31</td>\n",
       "      <td>26.65</td>\n",
       "      <td>24.08</td>\n",
       "    </tr>\n",
       "    <tr>\n",
       "      <th>1</th>\n",
       "      <td>All India</td>\n",
       "      <td>2014-15</td>\n",
       "      <td>10.32</td>\n",
       "      <td>44.39</td>\n",
       "      <td>81.96</td>\n",
       "      <td>19.40</td>\n",
       "      <td>79.86</td>\n",
       "      <td>62.66</td>\n",
       "      <td>68.11</td>\n",
       "      <td>51.27</td>\n",
       "      <td>50.26</td>\n",
       "      <td>47.96</td>\n",
       "      <td>26.42</td>\n",
       "    </tr>\n",
       "    <tr>\n",
       "      <th>2</th>\n",
       "      <td>All India</td>\n",
       "      <td>2015-16</td>\n",
       "      <td>10.36</td>\n",
       "      <td>45.46</td>\n",
       "      <td>79.06</td>\n",
       "      <td>19.78</td>\n",
       "      <td>82.04</td>\n",
       "      <td>68.67</td>\n",
       "      <td>68.40</td>\n",
       "      <td>53.05</td>\n",
       "      <td>54.05</td>\n",
       "      <td>55.72</td>\n",
       "      <td>27.31</td>\n",
       "    </tr>\n",
       "  </tbody>\n",
       "</table>\n",
       "</div>"
      ],
      "text/plain": [
       "    State_UT     year  Primary_Only  Primary_with_U_Primary  \\\n",
       "0  All India  2013-14          9.25                   42.14   \n",
       "1  All India  2014-15         10.32                   44.39   \n",
       "2  All India  2015-16         10.36                   45.46   \n",
       "\n",
       "   Primary_with_U_Primary_Sec_HrSec  U_Primary_Only  U_Primary_With_Sec_HrSec  \\\n",
       "0                             82.67           18.22                     76.50   \n",
       "1                             81.96           19.40                     79.86   \n",
       "2                             79.06           19.78                     82.04   \n",
       "\n",
       "   Primary_with_U_Primary_Sec  U_Primary_With_Sec  Sec_Only  Sec_with_HrSec.  \\\n",
       "0                       64.69               59.25     44.80            39.31   \n",
       "1                       62.66               68.11     51.27            50.26   \n",
       "2                       68.67               68.40     53.05            54.05   \n",
       "\n",
       "   HrSec_Only  All Schools  \n",
       "0       26.65        24.08  \n",
       "1       47.96        26.42  \n",
       "2       55.72        27.31  "
      ]
     },
     "execution_count": 53,
     "metadata": {},
     "output_type": "execute_result"
    }
   ],
   "source": [
    "comp.head(3)"
   ]
  },
  {
   "cell_type": "code",
   "execution_count": 54,
   "id": "be4f21e2-76a7-4a26-885a-a150d6372e6f",
   "metadata": {},
   "outputs": [],
   "source": [
    "mean_comp_facilities = PreprocessFiles(comp, comp.columns[2:])"
   ]
  },
  {
   "cell_type": "code",
   "execution_count": 55,
   "id": "041cbadf-9f8d-49c9-9568-d4c34e75392a",
   "metadata": {},
   "outputs": [],
   "source": [
    "test_comp_fac = PreprocessFiles(comp, comp.columns[2:], year_filter=['2015-16'])"
   ]
  },
  {
   "cell_type": "code",
   "execution_count": 56,
   "id": "5092f2ba-7403-4392-a8f3-6bd985d1f9e0",
   "metadata": {},
   "outputs": [
    {
     "data": {
      "text/html": [
       "<div>\n",
       "<style scoped>\n",
       "    .dataframe tbody tr th:only-of-type {\n",
       "        vertical-align: middle;\n",
       "    }\n",
       "\n",
       "    .dataframe tbody tr th {\n",
       "        vertical-align: top;\n",
       "    }\n",
       "\n",
       "    .dataframe thead th {\n",
       "        text-align: right;\n",
       "    }\n",
       "</style>\n",
       "<table border=\"1\" class=\"dataframe\">\n",
       "  <thead>\n",
       "    <tr style=\"text-align: right;\">\n",
       "      <th></th>\n",
       "      <th>State_UT</th>\n",
       "      <th>comp_mean_Primary_Only</th>\n",
       "      <th>comp_mean_Primary_with_U_Primary</th>\n",
       "      <th>comp_mean_Primary_with_U_Primary_Sec_HrSec</th>\n",
       "      <th>comp_mean_U_Primary_Only</th>\n",
       "      <th>comp_mean_U_Primary_With_Sec_HrSec</th>\n",
       "      <th>comp_mean_Primary_with_U_Primary_Sec</th>\n",
       "      <th>comp_mean_U_Primary_With_Sec</th>\n",
       "      <th>comp_mean_Sec_Only</th>\n",
       "      <th>comp_mean_Sec_with_HrSec.</th>\n",
       "      <th>comp_mean_HrSec_Only</th>\n",
       "      <th>comp_mean_All Schools</th>\n",
       "    </tr>\n",
       "  </thead>\n",
       "  <tbody>\n",
       "    <tr>\n",
       "      <th>0</th>\n",
       "      <td>All India</td>\n",
       "      <td>9.785</td>\n",
       "      <td>43.265</td>\n",
       "      <td>82.315</td>\n",
       "      <td>18.810</td>\n",
       "      <td>78.180</td>\n",
       "      <td>63.675</td>\n",
       "      <td>63.68</td>\n",
       "      <td>48.035</td>\n",
       "      <td>44.785</td>\n",
       "      <td>37.305</td>\n",
       "      <td>25.250</td>\n",
       "    </tr>\n",
       "    <tr>\n",
       "      <th>1</th>\n",
       "      <td>Andaman &amp; Nicobar Islands</td>\n",
       "      <td>30.670</td>\n",
       "      <td>75.110</td>\n",
       "      <td>90.925</td>\n",
       "      <td>50.000</td>\n",
       "      <td>97.370</td>\n",
       "      <td>98.960</td>\n",
       "      <td>0.00</td>\n",
       "      <td>0.000</td>\n",
       "      <td>100.000</td>\n",
       "      <td>0.000</td>\n",
       "      <td>55.155</td>\n",
       "    </tr>\n",
       "    <tr>\n",
       "      <th>2</th>\n",
       "      <td>Andhra Pradesh</td>\n",
       "      <td>11.510</td>\n",
       "      <td>43.435</td>\n",
       "      <td>87.725</td>\n",
       "      <td>47.725</td>\n",
       "      <td>39.645</td>\n",
       "      <td>68.280</td>\n",
       "      <td>74.91</td>\n",
       "      <td>65.485</td>\n",
       "      <td>50.000</td>\n",
       "      <td>30.460</td>\n",
       "      <td>28.815</td>\n",
       "    </tr>\n",
       "  </tbody>\n",
       "</table>\n",
       "</div>"
      ],
      "text/plain": [
       "                    State_UT  comp_mean_Primary_Only  \\\n",
       "0                  All India                   9.785   \n",
       "1  Andaman & Nicobar Islands                  30.670   \n",
       "2             Andhra Pradesh                  11.510   \n",
       "\n",
       "   comp_mean_Primary_with_U_Primary  \\\n",
       "0                            43.265   \n",
       "1                            75.110   \n",
       "2                            43.435   \n",
       "\n",
       "   comp_mean_Primary_with_U_Primary_Sec_HrSec  comp_mean_U_Primary_Only  \\\n",
       "0                                      82.315                    18.810   \n",
       "1                                      90.925                    50.000   \n",
       "2                                      87.725                    47.725   \n",
       "\n",
       "   comp_mean_U_Primary_With_Sec_HrSec  comp_mean_Primary_with_U_Primary_Sec  \\\n",
       "0                              78.180                                63.675   \n",
       "1                              97.370                                98.960   \n",
       "2                              39.645                                68.280   \n",
       "\n",
       "   comp_mean_U_Primary_With_Sec  comp_mean_Sec_Only  \\\n",
       "0                         63.68              48.035   \n",
       "1                          0.00               0.000   \n",
       "2                         74.91              65.485   \n",
       "\n",
       "   comp_mean_Sec_with_HrSec.  comp_mean_HrSec_Only  comp_mean_All Schools  \n",
       "0                     44.785                37.305                 25.250  \n",
       "1                    100.000                 0.000                 55.155  \n",
       "2                     50.000                30.460                 28.815  "
      ]
     },
     "execution_count": 56,
     "metadata": {},
     "output_type": "execute_result"
    }
   ],
   "source": [
    "mean_comp_facilities.head(3)"
   ]
  },
  {
   "cell_type": "code",
   "execution_count": 57,
   "id": "5ab5b9a4-ae96-4339-bf39-476fba7a5e2c",
   "metadata": {},
   "outputs": [
    {
     "name": "stdout",
     "output_type": "stream",
     "text": [
      "Create Dataset with 12 features\n",
      "Create Dataset with 12 features\n",
      "Create Dataset with 12 features\n",
      "Create Dataset with 12 features\n"
     ]
    }
   ],
   "source": [
    "primary_comp = CreateDataSets(mean_comp_facilities, 1)\n",
    "upp_comp = CreateDataSets(mean_comp_facilities, 2)\n",
    "sec_comp = CreateDataSets(mean_comp_facilities, 3)\n",
    "higher_comp = CreateDataSets(mean_comp_facilities, 4)"
   ]
  },
  {
   "cell_type": "code",
   "execution_count": 58,
   "id": "9afcbf25-4844-4ea4-85d3-f76e3e221f2c",
   "metadata": {},
   "outputs": [],
   "source": [
    "higher_comp.drop(columns=[0], inplace=True)"
   ]
  },
  {
   "cell_type": "code",
   "execution_count": 59,
   "id": "5d6e27e3-93dc-4541-a417-4ba16d6b2b40",
   "metadata": {},
   "outputs": [
    {
     "data": {
      "text/html": [
       "<div>\n",
       "<style scoped>\n",
       "    .dataframe tbody tr th:only-of-type {\n",
       "        vertical-align: middle;\n",
       "    }\n",
       "\n",
       "    .dataframe tbody tr th {\n",
       "        vertical-align: top;\n",
       "    }\n",
       "\n",
       "    .dataframe thead th {\n",
       "        text-align: right;\n",
       "    }\n",
       "</style>\n",
       "<table border=\"1\" class=\"dataframe\">\n",
       "  <thead>\n",
       "    <tr style=\"text-align: right;\">\n",
       "      <th></th>\n",
       "      <th>comp_mean_Primary_Only</th>\n",
       "      <th>comp_mean_Primary_with_U_Primary</th>\n",
       "      <th>comp_mean_Primary_with_U_Primary_Sec_HrSec</th>\n",
       "    </tr>\n",
       "    <tr>\n",
       "      <th>State_UT</th>\n",
       "      <th></th>\n",
       "      <th></th>\n",
       "      <th></th>\n",
       "    </tr>\n",
       "  </thead>\n",
       "  <tbody>\n",
       "    <tr>\n",
       "      <th>All India</th>\n",
       "      <td>9.785</td>\n",
       "      <td>43.265</td>\n",
       "      <td>82.315</td>\n",
       "    </tr>\n",
       "    <tr>\n",
       "      <th>Andaman &amp; Nicobar Islands</th>\n",
       "      <td>30.670</td>\n",
       "      <td>75.110</td>\n",
       "      <td>90.925</td>\n",
       "    </tr>\n",
       "  </tbody>\n",
       "</table>\n",
       "</div>"
      ],
      "text/plain": [
       "                           comp_mean_Primary_Only  \\\n",
       "State_UT                                            \n",
       "All India                                   9.785   \n",
       "Andaman & Nicobar Islands                  30.670   \n",
       "\n",
       "                           comp_mean_Primary_with_U_Primary  \\\n",
       "State_UT                                                      \n",
       "All India                                            43.265   \n",
       "Andaman & Nicobar Islands                            75.110   \n",
       "\n",
       "                           comp_mean_Primary_with_U_Primary_Sec_HrSec  \n",
       "State_UT                                                               \n",
       "All India                                                      82.315  \n",
       "Andaman & Nicobar Islands                                      90.925  "
      ]
     },
     "execution_count": 59,
     "metadata": {},
     "output_type": "execute_result"
    }
   ],
   "source": [
    "primary_comp.head(2)"
   ]
  },
  {
   "cell_type": "code",
   "execution_count": 60,
   "id": "de061cc8-a814-4660-a7ac-e16ab561b861",
   "metadata": {},
   "outputs": [
    {
     "name": "stdout",
     "output_type": "stream",
     "text": [
      "Create Dataset with 12 features\n",
      "Create Dataset with 12 features\n",
      "Create Dataset with 12 features\n",
      "Create Dataset with 12 features\n"
     ]
    }
   ],
   "source": [
    "eval_primary_comp_fac = CreateDataSets(test_comp_fac, 1)\n",
    "eval_upp_comp_fac = CreateDataSets(test_comp_fac, 2)\n",
    "eval_sec_comp_fac = CreateDataSets(test_comp_fac, 3)\n",
    "eval_higher_comp_fac = CreateDataSets(test_comp_fac, 4)"
   ]
  },
  {
   "cell_type": "code",
   "execution_count": 61,
   "id": "d6404b5c-e625-4e92-9dc0-c5bcae30d9cb",
   "metadata": {},
   "outputs": [],
   "source": [
    "eval_higher_comp_fac.drop(columns=[0], inplace=True)"
   ]
  },
  {
   "cell_type": "code",
   "execution_count": 62,
   "id": "1a0e4315-4367-479c-b7dc-04c6615fefa2",
   "metadata": {},
   "outputs": [],
   "source": [
    "def GenerateTrain(df_list, indexes=[]):\n",
    "    tmp_train = []\n",
    "    if len(indexes) == 0:\n",
    "        for col,_ in enumerate(df_list):\n",
    "            tmp_train.append(df_list[col])\n",
    "    elif len(indexes)>=0:\n",
    "        for _,col in enumerate(indexes):\n",
    "            tmp_train.append(df_list[col])\n",
    "    \n",
    "    train = pd.concat(tmp_train, axis=1)\n",
    "    return train"
   ]
  },
  {
   "cell_type": "code",
   "execution_count": 63,
   "id": "7d2bbdb5-ce17-4cdc-a8de-ca5737c4f101",
   "metadata": {},
   "outputs": [],
   "source": [
    "pry_useful = [primary_comp,primary_elect, primary_drop_out, primary_boys,primary_girls, primary_water]\n",
    "pry_df = GenerateTrain(pry_useful)"
   ]
  },
  {
   "cell_type": "code",
   "execution_count": 64,
   "id": "06d730e1-3c1a-4922-9028-bcd97c5ec262",
   "metadata": {},
   "outputs": [],
   "source": [
    "upp_useful = [upp_comp,upp_elect, upp_drop_out, upp_boys,upp_girls, upp_water]\n",
    "upp_df = GenerateTrain(upp_useful)"
   ]
  },
  {
   "cell_type": "code",
   "execution_count": 65,
   "id": "c112d516-2804-4b12-a0a4-bffac9cac952",
   "metadata": {},
   "outputs": [],
   "source": [
    "sec_useful = [sec_comp,sec_elect, sec_drop_out, sec_boys,sec_girls, sec_water]\n",
    "sec_df = GenerateTrain(sec_useful)"
   ]
  },
  {
   "cell_type": "code",
   "execution_count": 66,
   "id": "c63fea9a-819f-4ef9-89fa-2b09412f229d",
   "metadata": {},
   "outputs": [],
   "source": [
    "high_useful = [higher_comp,higher_elect, higher_drop_out, higher_boys,higher_girls, higher_water]\n",
    "high_df = GenerateTrain(high_useful)"
   ]
  },
  {
   "cell_type": "code",
   "execution_count": 67,
   "id": "a0915b88-11f1-4ec9-92e6-e85b6c98006a",
   "metadata": {},
   "outputs": [],
   "source": [
    "eval_pry_useful = [eval_primary_comp_fac,eval_primary_elect_fac,eval_primary_drop_out, eval_primary_boys, eval_primary_girls,eval_primary_water_fac]\n",
    "eval_pry_df = GenerateTrain(eval_pry_useful)"
   ]
  },
  {
   "cell_type": "code",
   "execution_count": 68,
   "id": "05b3b27a-4f12-4c25-9ea0-5cab9989dec6",
   "metadata": {},
   "outputs": [],
   "source": [
    "eval_upp_useful = [eval_upp_comp_fac,eval_upp_elect_fac,eval_upp_drop_out, eval_upp_boys, eval_upp_girls,eval_upp_water_fac]\n",
    "eval_upp_df = GenerateTrain(eval_upp_useful)"
   ]
  },
  {
   "cell_type": "code",
   "execution_count": 69,
   "id": "cdbf1c75-965b-4352-8281-9cf0dca2e7de",
   "metadata": {},
   "outputs": [],
   "source": [
    "eval_sec_useful = [eval_sec_comp_fac,eval_sec_elect_fac,eval_sec_drop_out, eval_sec_boys, eval_sec_girls,eval_sec_water_fac]\n",
    "eval_sec_df = GenerateTrain(eval_sec_useful)"
   ]
  },
  {
   "cell_type": "code",
   "execution_count": 70,
   "id": "8f83fb88-4258-420c-8358-06a5b1b11376",
   "metadata": {},
   "outputs": [],
   "source": [
    "eval_high_useful = [eval_higher_comp_fac,eval_higher_elect_fac,eval_higher_drop_out, eval_higher_boys, eval_higher_girls,eval_higher_water_fac]\n",
    "eval_high_df = GenerateTrain(eval_high_useful)"
   ]
  },
  {
   "cell_type": "code",
   "execution_count": 71,
   "id": "2e5671e7-cdc9-4e36-b52e-6f57a5c34aba",
   "metadata": {},
   "outputs": [],
   "source": [
    "enrol['State_UT'].replace({\n",
    "    'MADHYA PRADESH':'Madhya Pradesh',\n",
    "    'Pondicherry':'Puducherry',\n",
    "    'Uttaranchal':'Uttar Pradesh'\n",
    "},inplace=True)"
   ]
  },
  {
   "cell_type": "code",
   "execution_count": 72,
   "id": "773e4166-fea3-4a8d-8e26-6e6823f7d7a0",
   "metadata": {},
   "outputs": [
    {
     "data": {
      "text/html": [
       "<div>\n",
       "<style scoped>\n",
       "    .dataframe tbody tr th:only-of-type {\n",
       "        vertical-align: middle;\n",
       "    }\n",
       "\n",
       "    .dataframe tbody tr th {\n",
       "        vertical-align: top;\n",
       "    }\n",
       "\n",
       "    .dataframe thead th {\n",
       "        text-align: right;\n",
       "    }\n",
       "</style>\n",
       "<table border=\"1\" class=\"dataframe\">\n",
       "  <thead>\n",
       "    <tr style=\"text-align: right;\">\n",
       "      <th></th>\n",
       "      <th>State_UT</th>\n",
       "      <th>Year</th>\n",
       "      <th>Primary_Boys</th>\n",
       "      <th>Primary_Girls</th>\n",
       "      <th>Primary_Total</th>\n",
       "      <th>Upper_Primary_Boys</th>\n",
       "      <th>Upper_Primary_Girls</th>\n",
       "      <th>Upper_Primary_Total</th>\n",
       "      <th>Secondary_Boys</th>\n",
       "      <th>Secondary_Girls</th>\n",
       "      <th>Secondary_Total</th>\n",
       "      <th>Higher_Secondary_Boys</th>\n",
       "      <th>Higher_Secondary_Girls</th>\n",
       "      <th>Higher_Secondary_Total</th>\n",
       "    </tr>\n",
       "  </thead>\n",
       "  <tbody>\n",
       "    <tr>\n",
       "      <th>0</th>\n",
       "      <td>All India</td>\n",
       "      <td>2013-14</td>\n",
       "      <td>100.20</td>\n",
       "      <td>102.65</td>\n",
       "      <td>101.36</td>\n",
       "      <td>86.31</td>\n",
       "      <td>92.75</td>\n",
       "      <td>89.33</td>\n",
       "      <td>76.80</td>\n",
       "      <td>76.47</td>\n",
       "      <td>76.64</td>\n",
       "      <td>52.77</td>\n",
       "      <td>51.58</td>\n",
       "      <td>52.21</td>\n",
       "    </tr>\n",
       "    <tr>\n",
       "      <th>1</th>\n",
       "      <td>All India</td>\n",
       "      <td>2014-15</td>\n",
       "      <td>98.85</td>\n",
       "      <td>101.43</td>\n",
       "      <td>100.08</td>\n",
       "      <td>87.71</td>\n",
       "      <td>95.29</td>\n",
       "      <td>91.24</td>\n",
       "      <td>78.13</td>\n",
       "      <td>78.94</td>\n",
       "      <td>78.51</td>\n",
       "      <td>54.57</td>\n",
       "      <td>53.81</td>\n",
       "      <td>54.21</td>\n",
       "    </tr>\n",
       "    <tr>\n",
       "      <th>2</th>\n",
       "      <td>All India</td>\n",
       "      <td>2015-16</td>\n",
       "      <td>97.87</td>\n",
       "      <td>100.69</td>\n",
       "      <td>99.21</td>\n",
       "      <td>88.72</td>\n",
       "      <td>97.57</td>\n",
       "      <td>92.81</td>\n",
       "      <td>79.16</td>\n",
       "      <td>80.97</td>\n",
       "      <td>80.01</td>\n",
       "      <td>55.95</td>\n",
       "      <td>56.41</td>\n",
       "      <td>56.16</td>\n",
       "    </tr>\n",
       "  </tbody>\n",
       "</table>\n",
       "</div>"
      ],
      "text/plain": [
       "    State_UT     Year  Primary_Boys  Primary_Girls  Primary_Total  \\\n",
       "0  All India  2013-14        100.20         102.65         101.36   \n",
       "1  All India  2014-15         98.85         101.43         100.08   \n",
       "2  All India  2015-16         97.87         100.69          99.21   \n",
       "\n",
       "   Upper_Primary_Boys  Upper_Primary_Girls  Upper_Primary_Total  \\\n",
       "0               86.31                92.75                89.33   \n",
       "1               87.71                95.29                91.24   \n",
       "2               88.72                97.57                92.81   \n",
       "\n",
       "   Secondary_Boys  Secondary_Girls  Secondary_Total Higher_Secondary_Boys  \\\n",
       "0           76.80            76.47            76.64                 52.77   \n",
       "1           78.13            78.94            78.51                 54.57   \n",
       "2           79.16            80.97            80.01                 55.95   \n",
       "\n",
       "  Higher_Secondary_Girls Higher_Secondary_Total  \n",
       "0                  51.58                  52.21  \n",
       "1                  53.81                  54.21  \n",
       "2                  56.41                  56.16  "
      ]
     },
     "execution_count": 72,
     "metadata": {},
     "output_type": "execute_result"
    }
   ],
   "source": [
    "enrol.head(3)"
   ]
  },
  {
   "cell_type": "code",
   "execution_count": 73,
   "id": "f9ad6663-0603-4cbe-9a18-ed834819dd9b",
   "metadata": {},
   "outputs": [],
   "source": [
    "imputer_2 = SimpleImputer(missing_values = 'NR', strategy='constant', fill_value=0)\n",
    "imputer_3 = SimpleImputer(missing_values = '@', strategy='constant', fill_value=0)"
   ]
  },
  {
   "cell_type": "code",
   "execution_count": 74,
   "id": "4750a5c3-f662-4229-a625-e84e7109bae7",
   "metadata": {},
   "outputs": [],
   "source": [
    "enrol_col = enrol.columns.to_list()\n",
    "enrol = imputer_2.fit_transform(enrol)\n",
    "enrol = pd.DataFrame(imputer_3.fit_transform(enrol), columns=enrol_col)"
   ]
  },
  {
   "cell_type": "code",
   "execution_count": 75,
   "id": "19de79b0-a8f2-48cd-83a1-b83f947e14ed",
   "metadata": {},
   "outputs": [],
   "source": [
    "mean_enrol_per_state = PreprocessFiles(enrol, enrol_col[2:], year='Year')"
   ]
  },
  {
   "cell_type": "code",
   "execution_count": 76,
   "id": "0795f33d-ff6e-45c7-8635-2f11162e3fdc",
   "metadata": {},
   "outputs": [],
   "source": [
    "test_mean_enrol_per_state = PreprocessFiles(enrol, enrol_col[2:], year='Year', year_filter=['2015-16'])"
   ]
  },
  {
   "cell_type": "code",
   "execution_count": 77,
   "id": "211223a5-bf88-4fbf-8138-0208d52d984e",
   "metadata": {},
   "outputs": [
    {
     "data": {
      "text/html": [
       "<div>\n",
       "<style scoped>\n",
       "    .dataframe tbody tr th:only-of-type {\n",
       "        vertical-align: middle;\n",
       "    }\n",
       "\n",
       "    .dataframe tbody tr th {\n",
       "        vertical-align: top;\n",
       "    }\n",
       "\n",
       "    .dataframe thead th {\n",
       "        text-align: right;\n",
       "    }\n",
       "</style>\n",
       "<table border=\"1\" class=\"dataframe\">\n",
       "  <thead>\n",
       "    <tr style=\"text-align: right;\">\n",
       "      <th></th>\n",
       "      <th>State_UT</th>\n",
       "      <th>enrol_mean_Primary_Boys</th>\n",
       "      <th>enrol_mean_Primary_Girls</th>\n",
       "      <th>enrol_mean_Primary_Total</th>\n",
       "      <th>enrol_mean_Upper_Primary_Boys</th>\n",
       "      <th>enrol_mean_Upper_Primary_Girls</th>\n",
       "      <th>enrol_mean_Upper_Primary_Total</th>\n",
       "      <th>enrol_mean_Secondary_Boys</th>\n",
       "      <th>enrol_mean_Secondary_Girls</th>\n",
       "      <th>enrol_mean_Secondary_Total</th>\n",
       "      <th>enrol_mean_Higher_Secondary_Boys</th>\n",
       "      <th>enrol_mean_Higher_Secondary_Girls</th>\n",
       "      <th>enrol_mean_Higher_Secondary_Total</th>\n",
       "    </tr>\n",
       "  </thead>\n",
       "  <tbody>\n",
       "    <tr>\n",
       "      <th>0</th>\n",
       "      <td>All India</td>\n",
       "      <td>99.525</td>\n",
       "      <td>102.040</td>\n",
       "      <td>100.720</td>\n",
       "      <td>87.010</td>\n",
       "      <td>94.020</td>\n",
       "      <td>90.285</td>\n",
       "      <td>77.465</td>\n",
       "      <td>77.705</td>\n",
       "      <td>77.575</td>\n",
       "      <td>53.670</td>\n",
       "      <td>52.695</td>\n",
       "      <td>53.210</td>\n",
       "    </tr>\n",
       "    <tr>\n",
       "      <th>1</th>\n",
       "      <td>Andaman &amp; Nicobar Islands</td>\n",
       "      <td>94.395</td>\n",
       "      <td>90.455</td>\n",
       "      <td>92.425</td>\n",
       "      <td>92.635</td>\n",
       "      <td>86.845</td>\n",
       "      <td>89.725</td>\n",
       "      <td>99.240</td>\n",
       "      <td>93.745</td>\n",
       "      <td>96.520</td>\n",
       "      <td>102.025</td>\n",
       "      <td>94.560</td>\n",
       "      <td>98.465</td>\n",
       "    </tr>\n",
       "    <tr>\n",
       "      <th>2</th>\n",
       "      <td>Andhra Pradesh</td>\n",
       "      <td>92.465</td>\n",
       "      <td>92.490</td>\n",
       "      <td>92.475</td>\n",
       "      <td>81.075</td>\n",
       "      <td>81.995</td>\n",
       "      <td>81.520</td>\n",
       "      <td>72.610</td>\n",
       "      <td>75.095</td>\n",
       "      <td>73.800</td>\n",
       "      <td>55.550</td>\n",
       "      <td>56.430</td>\n",
       "      <td>55.965</td>\n",
       "    </tr>\n",
       "  </tbody>\n",
       "</table>\n",
       "</div>"
      ],
      "text/plain": [
       "                    State_UT  enrol_mean_Primary_Boys  \\\n",
       "0                  All India                   99.525   \n",
       "1  Andaman & Nicobar Islands                   94.395   \n",
       "2             Andhra Pradesh                   92.465   \n",
       "\n",
       "   enrol_mean_Primary_Girls  enrol_mean_Primary_Total  \\\n",
       "0                   102.040                   100.720   \n",
       "1                    90.455                    92.425   \n",
       "2                    92.490                    92.475   \n",
       "\n",
       "   enrol_mean_Upper_Primary_Boys  enrol_mean_Upper_Primary_Girls  \\\n",
       "0                         87.010                          94.020   \n",
       "1                         92.635                          86.845   \n",
       "2                         81.075                          81.995   \n",
       "\n",
       "   enrol_mean_Upper_Primary_Total  enrol_mean_Secondary_Boys  \\\n",
       "0                          90.285                     77.465   \n",
       "1                          89.725                     99.240   \n",
       "2                          81.520                     72.610   \n",
       "\n",
       "   enrol_mean_Secondary_Girls  enrol_mean_Secondary_Total  \\\n",
       "0                      77.705                      77.575   \n",
       "1                      93.745                      96.520   \n",
       "2                      75.095                      73.800   \n",
       "\n",
       "   enrol_mean_Higher_Secondary_Boys  enrol_mean_Higher_Secondary_Girls  \\\n",
       "0                            53.670                             52.695   \n",
       "1                           102.025                             94.560   \n",
       "2                            55.550                             56.430   \n",
       "\n",
       "   enrol_mean_Higher_Secondary_Total  \n",
       "0                             53.210  \n",
       "1                             98.465  \n",
       "2                             55.965  "
      ]
     },
     "execution_count": 77,
     "metadata": {},
     "output_type": "execute_result"
    }
   ],
   "source": [
    "mean_enrol_per_state.head(3)"
   ]
  },
  {
   "cell_type": "code",
   "execution_count": 78,
   "id": "a3f62b30-3e26-4dff-9307-52529723f16b",
   "metadata": {},
   "outputs": [
    {
     "name": "stdout",
     "output_type": "stream",
     "text": [
      "Create Dataset with 13 features\n",
      "Create Dataset with 13 features\n",
      "Create Dataset with 13 features\n",
      "Create Dataset with 13 features\n"
     ]
    }
   ],
   "source": [
    "enrol_primary = CreateDataSets(mean_enrol_per_state, 1)\n",
    "enrol_upper_primary = CreateDataSets(mean_enrol_per_state, 2)\n",
    "enrol_secondary = CreateDataSets(mean_enrol_per_state, 3)\n",
    "enrol_higher = CreateDataSets(mean_enrol_per_state, 4)"
   ]
  },
  {
   "cell_type": "code",
   "execution_count": 79,
   "id": "484a8785-a9fe-4083-979c-c48eee139159",
   "metadata": {},
   "outputs": [
    {
     "data": {
      "text/html": [
       "<div>\n",
       "<style scoped>\n",
       "    .dataframe tbody tr th:only-of-type {\n",
       "        vertical-align: middle;\n",
       "    }\n",
       "\n",
       "    .dataframe tbody tr th {\n",
       "        vertical-align: top;\n",
       "    }\n",
       "\n",
       "    .dataframe thead th {\n",
       "        text-align: right;\n",
       "    }\n",
       "</style>\n",
       "<table border=\"1\" class=\"dataframe\">\n",
       "  <thead>\n",
       "    <tr style=\"text-align: right;\">\n",
       "      <th></th>\n",
       "      <th>enrol_mean_Primary_Boys</th>\n",
       "      <th>enrol_mean_Primary_Girls</th>\n",
       "      <th>enrol_mean_Primary_Total</th>\n",
       "    </tr>\n",
       "    <tr>\n",
       "      <th>State_UT</th>\n",
       "      <th></th>\n",
       "      <th></th>\n",
       "      <th></th>\n",
       "    </tr>\n",
       "  </thead>\n",
       "  <tbody>\n",
       "    <tr>\n",
       "      <th>All India</th>\n",
       "      <td>99.525</td>\n",
       "      <td>102.040</td>\n",
       "      <td>100.720</td>\n",
       "    </tr>\n",
       "    <tr>\n",
       "      <th>Andaman &amp; Nicobar Islands</th>\n",
       "      <td>94.395</td>\n",
       "      <td>90.455</td>\n",
       "      <td>92.425</td>\n",
       "    </tr>\n",
       "    <tr>\n",
       "      <th>Andhra Pradesh</th>\n",
       "      <td>92.465</td>\n",
       "      <td>92.490</td>\n",
       "      <td>92.475</td>\n",
       "    </tr>\n",
       "  </tbody>\n",
       "</table>\n",
       "</div>"
      ],
      "text/plain": [
       "                           enrol_mean_Primary_Boys  enrol_mean_Primary_Girls  \\\n",
       "State_UT                                                                       \n",
       "All India                                   99.525                   102.040   \n",
       "Andaman & Nicobar Islands                   94.395                    90.455   \n",
       "Andhra Pradesh                              92.465                    92.490   \n",
       "\n",
       "                           enrol_mean_Primary_Total  \n",
       "State_UT                                             \n",
       "All India                                   100.720  \n",
       "Andaman & Nicobar Islands                    92.425  \n",
       "Andhra Pradesh                               92.475  "
      ]
     },
     "execution_count": 79,
     "metadata": {},
     "output_type": "execute_result"
    }
   ],
   "source": [
    "enrol_primary.head(3)"
   ]
  },
  {
   "cell_type": "code",
   "execution_count": 80,
   "id": "94202b3f-5e9b-4d58-999c-1f6b5ce5e19b",
   "metadata": {},
   "outputs": [
    {
     "name": "stdout",
     "output_type": "stream",
     "text": [
      "Create Dataset with 13 features\n",
      "Create Dataset with 13 features\n",
      "Create Dataset with 13 features\n",
      "Create Dataset with 13 features\n"
     ]
    }
   ],
   "source": [
    "test_enrol_primary = CreateDataSets(test_mean_enrol_per_state, 1)\n",
    "test_enrol_upper_primary = CreateDataSets(test_mean_enrol_per_state, 2)\n",
    "test_enrol_secondary = CreateDataSets(test_mean_enrol_per_state, 3)\n",
    "test_enrol_higher = CreateDataSets(test_mean_enrol_per_state, 4)"
   ]
  },
  {
   "cell_type": "code",
   "execution_count": 81,
   "id": "96b64565-290e-4aaf-a44d-d7becb3a253f",
   "metadata": {},
   "outputs": [],
   "source": [
    "def CreateTargetFeature(dataframe, gender=2):\n",
    "    cols = dataframe.columns.to_list()\n",
    "    threshold = dataframe.describe().loc['50%'][gender]\n",
    "    \n",
    "    target = dataframe[cols[gender]]\n",
    "    def thresholder(data):\n",
    "        if data < threshold:\n",
    "            return 0 #BAD\n",
    "        elif data >= threshold:\n",
    "            return 1 #GOOD\n",
    "        else:\n",
    "            pass\n",
    "    target = target.apply(thresholder)\n",
    "    return target"
   ]
  },
  {
   "cell_type": "code",
   "execution_count": 82,
   "id": "32313241-1285-4c7f-b662-81a376a5ec5f",
   "metadata": {},
   "outputs": [],
   "source": [
    "primary_target = CreateTargetFeature(enrol_primary)\n",
    "upper_primary_target = CreateTargetFeature(enrol_upper_primary)\n",
    "secondary_target = CreateTargetFeature(enrol_secondary)\n",
    "higher_target = CreateTargetFeature(enrol_higher)"
   ]
  },
  {
   "cell_type": "code",
   "execution_count": 83,
   "id": "8bc8ee10-3aa8-4956-b568-b5521e797f80",
   "metadata": {},
   "outputs": [],
   "source": [
    "eval_primary_target = CreateTargetFeature(test_enrol_primary)\n",
    "eval_upper_primary_target = CreateTargetFeature(test_enrol_upper_primary)\n",
    "eval_secondary_target = CreateTargetFeature(test_enrol_secondary)\n",
    "eval_higher_target = CreateTargetFeature(test_enrol_higher)"
   ]
  },
  {
   "cell_type": "code",
   "execution_count": 84,
   "id": "71333ee0-2237-4b3a-9910-8c030b8eb39f",
   "metadata": {},
   "outputs": [],
   "source": [
    "def DropNa(df, target):  \n",
    "    uncommon = [i for i in df.index if i not in target.index]\n",
    "    df.drop([i for i in uncommon], inplace=True)\n",
    "    df.fillna(method='ffill', inplace=True)\n",
    "    pass"
   ]
  },
  {
   "cell_type": "code",
   "execution_count": 85,
   "id": "8e8cd138-77a3-4797-a3e9-7b7bc64f901a",
   "metadata": {},
   "outputs": [],
   "source": [
    "def blender(x):\n",
    "    if x<0.5:return 0 \n",
    "    elif x>=0.5: return 1\n",
    "    else: pass"
   ]
  },
  {
   "cell_type": "code",
   "execution_count": 86,
   "id": "bd354f46-a69c-42fe-961e-ff910b433159",
   "metadata": {},
   "outputs": [],
   "source": [
    "def ModelEvaluator(y_true, y_pred):\n",
    "    eval_dict = {}\n",
    "    eval_dict['log_loss'] = log_loss(y_true, y_pred)\n",
    "    eval_dict['roc_auc_score'] = roc_auc_score(y_true, y_pred,)#multi_class=\"ovr\")\n",
    "    true_classes = pd.Series(y_pred).apply(blender)\n",
    "    eval_dict['f1_score'] = f1_score(y_true, true_classes,)#average='macro')\n",
    "    eval_dict['accuracy_score'] = accuracy_score(y_true, true_classes)\n",
    "    return eval_dict"
   ]
  },
  {
   "cell_type": "code",
   "execution_count": 87,
   "id": "e9bf1426-de0b-4a72-b423-85fec2151fe4",
   "metadata": {},
   "outputs": [],
   "source": [
    "def Model(train, target, test, algo=RandomForestClassifier):\n",
    "    errcb1=[]\n",
    "    y_pred_totcb1=[]\n",
    "    fold=StratifiedKFold(n_splits=9)\n",
    "    i=1\n",
    "    cols = train.columns.to_list()\n",
    "    for train_index, test_index in fold.split(train,target):\n",
    "        print(str(i) + ' iter')\n",
    "        X_train, X_test = train.iloc[train_index], train.iloc[test_index]\n",
    "        y_train, y_test = target.iloc[train_index], target.iloc[test_index]\n",
    "        m1 = algo(n_estimators=100, random_state=2020)\n",
    "        m1.fit(X_train, y_train)\n",
    "        \n",
    "        preds = m1.predict_proba(X_test)[:,1]\n",
    "        print('err: ', log_loss(y_test, preds))\n",
    "        errcb1.append(log_loss(y_test, preds))\n",
    "        p1 = m1.predict_proba(test)[:,1]\n",
    "        y_pred_totcb1.append(p1)\n",
    "        \n",
    "        best_feature = cols[np.argmax(m1.feature_importances_)]\n",
    "        worst_feature = cols[np.argmin(m1.feature_importances_)]    \n",
    "        print('Лучшая функция для итерации {} это {}, а худшая это {}'.format(i, best_feature, worst_feature))\n",
    "        \n",
    "        i+=1\n",
    "    #np.mean(errcb1)\n",
    "    return np.mean(y_pred_totcb1, axis=0)"
   ]
  },
  {
   "cell_type": "code",
   "execution_count": 88,
   "id": "c245cfed-03fa-43d4-96b8-a4dba3e1d221",
   "metadata": {},
   "outputs": [],
   "source": [
    "metric_list = []                 ### Хранение результатов метрик всех типов категорий студентов"
   ]
  },
  {
   "cell_type": "code",
   "execution_count": 89,
   "id": "083514f2-156a-41a5-be9d-f0de8eddc2c4",
   "metadata": {},
   "outputs": [],
   "source": [
    "boy_pry_df = GenerateTrain(eval_pry_useful,[0,1,2,3,5])\n",
    "boy_eval_pry_df = GenerateTrain(eval_pry_useful,[0,1,2,3,5]) \n",
    "boy_primary_target = CreateTargetFeature(enrol_primary,0)    \n",
    "eval_boy_primary_target = CreateTargetFeature(test_enrol_primary,0) "
   ]
  },
  {
   "cell_type": "code",
   "execution_count": 90,
   "id": "59580c3e-ba18-4d9e-9062-56cc0d158128",
   "metadata": {},
   "outputs": [],
   "source": [
    "DropNa(boy_pry_df,boy_primary_target)          \n",
    "DropNa(boy_eval_pry_df,eval_boy_primary_target)"
   ]
  },
  {
   "cell_type": "code",
   "execution_count": 91,
   "id": "8b3eb0c3-9e38-4ce1-8d00-c387089ce0a7",
   "metadata": {},
   "outputs": [
    {
     "data": {
      "text/plain": [
       "((36,), (36, 15), (37, 15), (37,))"
      ]
     },
     "execution_count": 91,
     "metadata": {},
     "output_type": "execute_result"
    }
   ],
   "source": [
    "boy_primary_target.shape, boy_pry_df.shape, boy_eval_pry_df.shape, eval_boy_primary_target.shape"
   ]
  },
  {
   "cell_type": "code",
   "execution_count": 92,
   "id": "79089f08-3d98-481c-8839-5fd35bdc81ab",
   "metadata": {},
   "outputs": [
    {
     "name": "stdout",
     "output_type": "stream",
     "text": [
      "1 iter\n",
      "err:  0.4841341793124182\n",
      "Лучшая функция для итерации 1 это comp_mean_Primary_with_U_Primary_Sec_HrSec, а худшая это water_mean_Primary_with_U_Primary_Sec_HrSec\n",
      "2 iter\n",
      "err:  1.3930833120590007\n",
      "Лучшая функция для итерации 2 это water_mean_Primary_with_U_Primary, а худшая это water_mean_Primary_with_U_Primary_Sec_HrSec\n",
      "3 iter\n",
      "err:  0.8462036783529902\n",
      "Лучшая функция для итерации 3 это water_mean_Primary_with_U_Primary, а худшая это boys_mean_Primary_Only\n",
      "4 iter\n",
      "err:  0.5072312171961757\n",
      "Лучшая функция для итерации 4 это water_mean_Primary_with_U_Primary, а худшая это water_mean_Primary_with_U_Primary_Sec_HrSec\n",
      "5 iter\n",
      "err:  0.4585644670323137\n",
      "Лучшая функция для итерации 5 это comp_mean_Primary_Only, а худшая это boys_mean_Primary_Only\n",
      "6 iter\n",
      "err:  0.5823339818175548\n",
      "Лучшая функция для итерации 6 это water_mean_Primary_with_U_Primary, а худшая это water_mean_Primary_with_U_Primary_Sec_HrSec\n",
      "7 iter\n",
      "err:  0.8359847932004738\n",
      "Лучшая функция для итерации 7 это comp_mean_Primary_Only, а худшая это water_mean_Primary_with_U_Primary_Sec_HrSec\n",
      "8 iter\n",
      "err:  0.793523420524077\n",
      "Лучшая функция для итерации 8 это comp_mean_Primary_Only, а худшая это water_mean_Primary_with_U_Primary_Sec_HrSec\n",
      "9 iter\n",
      "err:  0.8968877641323784\n",
      "Лучшая функция для итерации 9 это drop_out_mean_Primary_Total, а худшая это water_mean_Primary_with_U_Primary_Sec_HrSec\n"
     ]
    }
   ],
   "source": [
    "boy_pry_preds = Model(boy_pry_df, boy_primary_target, boy_eval_pry_df)"
   ]
  },
  {
   "cell_type": "code",
   "execution_count": 93,
   "id": "7e2441a3-d09f-4302-bdea-3fc3f1cfc863",
   "metadata": {},
   "outputs": [
    {
     "data": {
      "text/plain": [
       "{'log_loss': 0.4565658655009409,\n",
       " 'roc_auc_score': 0.855263157894737,\n",
       " 'f1_score': 0.8421052631578947,\n",
       " 'accuracy_score': 0.8378378378378378}"
      ]
     },
     "execution_count": 93,
     "metadata": {},
     "output_type": "execute_result"
    }
   ],
   "source": [
    "ModelEvaluator(eval_boy_primary_target, boy_pry_preds)"
   ]
  },
  {
   "cell_type": "code",
   "execution_count": 94,
   "id": "23ce3dfa-f613-485b-8d05-eaee8dc2fc45",
   "metadata": {},
   "outputs": [],
   "source": [
    "metric_list.append(['Primary Student Boys',ModelEvaluator(eval_boy_primary_target, boy_pry_preds)])   # run only once"
   ]
  },
  {
   "cell_type": "code",
   "execution_count": 95,
   "id": "13ca5b19-be84-41c2-82b8-ae2ecc0dc84c",
   "metadata": {},
   "outputs": [],
   "source": [
    "girl_pry_df = GenerateTrain(eval_pry_useful,[0,1,2,4,5])\n",
    "girl_eval_pry_df = GenerateTrain(eval_pry_useful,[0,1,2,4,5]) \n",
    "girl_primary_target = CreateTargetFeature(enrol_primary,1)    #1 for girls\n",
    "eval_girl_primary_target = CreateTargetFeature(test_enrol_primary, 1)"
   ]
  },
  {
   "cell_type": "code",
   "execution_count": 96,
   "id": "65f6c91f-27c6-4f88-b5b7-b892f7e33056",
   "metadata": {},
   "outputs": [],
   "source": [
    "DropNa(girl_pry_df, girl_primary_target)   # Run  only once\n",
    "DropNa(girl_eval_pry_df, eval_girl_primary_target)"
   ]
  },
  {
   "cell_type": "code",
   "execution_count": 97,
   "id": "6721f729-c1f8-42d0-b05a-49368be5ff44",
   "metadata": {},
   "outputs": [
    {
     "data": {
      "text/plain": [
       "((36,), (36, 15), (37, 15), (37,))"
      ]
     },
     "execution_count": 97,
     "metadata": {},
     "output_type": "execute_result"
    }
   ],
   "source": [
    "girl_primary_target.shape, girl_pry_df.shape, girl_eval_pry_df.shape, eval_girl_primary_target.shape"
   ]
  },
  {
   "cell_type": "code",
   "execution_count": 98,
   "id": "39aa52e7-6e15-4312-a771-b77d8e14000e",
   "metadata": {},
   "outputs": [
    {
     "name": "stdout",
     "output_type": "stream",
     "text": [
      "1 iter\n",
      "err:  0.5238260731230722\n",
      "Лучшая функция для итерации 1 это girls_mean_Primary_with_U_Primary, а худшая это water_mean_Primary_with_U_Primary_Sec_HrSec\n",
      "2 iter\n",
      "err:  1.3792937787623845\n",
      "Лучшая функция для итерации 2 это water_mean_Primary_with_U_Primary, а худшая это water_mean_Primary_with_U_Primary_Sec_HrSec\n",
      "3 iter\n",
      "err:  0.8131766723467764\n",
      "Лучшая функция для итерации 3 это water_mean_Primary_with_U_Primary, а худшая это water_mean_Primary_with_U_Primary_Sec_HrSec\n",
      "4 iter\n",
      "err:  0.5234212245989698\n",
      "Лучшая функция для итерации 4 это water_mean_Primary_with_U_Primary, а худшая это water_mean_Primary_with_U_Primary_Sec_HrSec\n",
      "5 iter\n",
      "err:  0.47095816343977615\n",
      "Лучшая функция для итерации 5 это comp_mean_Primary_Only, а худшая это girls_mean_Primary_Only\n",
      "6 iter\n",
      "err:  0.5644507375555382\n",
      "Лучшая функция для итерации 6 это elect_mean_Primary_with_U_Primary, а худшая это girls_mean_Primary_with_U_Primary_Sec_HrSec\n",
      "7 iter\n",
      "err:  0.8167212610136403\n",
      "Лучшая функция для итерации 7 это comp_mean_Primary_Only, а худшая это water_mean_Primary_with_U_Primary_Sec_HrSec\n",
      "8 iter\n",
      "err:  0.784259451663142\n",
      "Лучшая функция для итерации 8 это comp_mean_Primary_Only, а худшая это elect_mean_Primary_with_U_Primary_Sec_HrSec\n",
      "9 iter\n",
      "err:  0.9821715165811713\n",
      "Лучшая функция для итерации 9 это drop_out_mean_Primary_Total, а худшая это water_mean_Primary_with_U_Primary_Sec_HrSec\n"
     ]
    }
   ],
   "source": [
    "girl_pry_preds = Model(girl_pry_df, girl_primary_target, girl_eval_pry_df)"
   ]
  },
  {
   "cell_type": "code",
   "execution_count": 99,
   "id": "64c80980-101e-4b7d-bd19-94e20b9990d0",
   "metadata": {},
   "outputs": [
    {
     "data": {
      "text/plain": [
       "{'log_loss': 0.4470848140149144,\n",
       " 'roc_auc_score': 0.8742690058479532,\n",
       " 'f1_score': 0.8421052631578947,\n",
       " 'accuracy_score': 0.8378378378378378}"
      ]
     },
     "execution_count": 99,
     "metadata": {},
     "output_type": "execute_result"
    }
   ],
   "source": [
    "ModelEvaluator(eval_girl_primary_target, girl_pry_preds)"
   ]
  },
  {
   "cell_type": "code",
   "execution_count": 100,
   "id": "737630de-2841-4b18-a621-62791ec011ef",
   "metadata": {},
   "outputs": [],
   "source": [
    "metric_list.append(['Primary Student Girls', ModelEvaluator(eval_girl_primary_target, girl_pry_preds) ])   # run only once"
   ]
  },
  {
   "cell_type": "code",
   "execution_count": 101,
   "id": "73f03461-25c4-4291-bbc8-9a767ced3429",
   "metadata": {},
   "outputs": [],
   "source": [
    "boy_upp_df = GenerateTrain(eval_upp_useful,[0,1,2,3,5,])\n",
    "boy_eval_upp_df = GenerateTrain(eval_upp_useful,[0,1,2,3,5]) \n",
    "boy_upp_target = CreateTargetFeature(enrol_upper_primary,0)    #0 for boys\n",
    "eval_boy_upp_target = CreateTargetFeature(test_enrol_upper_primary, 0)"
   ]
  },
  {
   "cell_type": "code",
   "execution_count": 102,
   "id": "10d92285-ddbb-4ceb-af31-2c004fcf7c56",
   "metadata": {},
   "outputs": [],
   "source": [
    "DropNa(boy_upp_df, boy_upp_target)   # Run  only once\n",
    "DropNa(boy_eval_upp_df, eval_boy_upp_target)"
   ]
  },
  {
   "cell_type": "code",
   "execution_count": 103,
   "id": "b1e21f66-fc6a-47a8-a77a-5c26eb754adc",
   "metadata": {},
   "outputs": [
    {
     "data": {
      "text/plain": [
       "((36,), (36, 15), (37, 15), (37,))"
      ]
     },
     "execution_count": 103,
     "metadata": {},
     "output_type": "execute_result"
    }
   ],
   "source": [
    "boy_upp_target.shape, boy_upp_df.shape, boy_eval_upp_df.shape, eval_boy_upp_target.shape"
   ]
  },
  {
   "cell_type": "code",
   "execution_count": 104,
   "id": "7872d60b-4aea-4783-9a82-5f152979c8ae",
   "metadata": {},
   "outputs": [
    {
     "name": "stdout",
     "output_type": "stream",
     "text": [
      "1 iter\n",
      "err:  0.7598997245651178\n",
      "Лучшая функция для итерации 1 это drop_out_mean_Upper Primary_Total, а худшая это water_mean_U_Primary_Only\n",
      "2 iter\n",
      "err:  0.7792251017987788\n",
      "Лучшая функция для итерации 2 это drop_out_mean_Upper Primary_Girls, а худшая это water_mean_U_Primary_With_Sec_HrSec\n",
      "3 iter\n",
      "err:  0.5804633092879473\n",
      "Лучшая функция для итерации 3 это comp_mean_U_Primary_With_Sec_HrSec, а худшая это water_mean_U_Primary_Only\n",
      "4 iter\n",
      "err:  0.5934150326713304\n",
      "Лучшая функция для итерации 4 это drop_out_mean_Upper Primary_Boys, а худшая это water_mean_U_Primary_With_Sec_HrSec\n",
      "5 iter\n",
      "err:  0.8725727312140275\n",
      "Лучшая функция для итерации 5 это drop_out_mean_Upper Primary_Girls, а худшая это water_mean_U_Primary_Only\n",
      "6 iter\n",
      "err:  0.6638966978916205\n",
      "Лучшая функция для итерации 6 это elect_mean_U_Primary_Only, а худшая это water_mean_U_Primary_With_Sec_HrSec\n",
      "7 iter\n",
      "err:  1.5791602059968357\n",
      "Лучшая функция для итерации 7 это drop_out_mean_Upper Primary_Total, а худшая это boys_mean_Primary_with_U_Primary_Sec\n",
      "8 iter\n",
      "err:  0.5812833515595991\n",
      "Лучшая функция для итерации 8 это elect_mean_U_Primary_Only, а худшая это water_mean_U_Primary_With_Sec_HrSec\n",
      "9 iter\n",
      "err:  0.7359368046220098\n",
      "Лучшая функция для итерации 9 это drop_out_mean_Upper Primary_Total, а худшая это water_mean_U_Primary_With_Sec_HrSec\n"
     ]
    }
   ],
   "source": [
    "boy_upp_preds = Model(boy_upp_df, boy_upp_target, boy_eval_upp_df)"
   ]
  },
  {
   "cell_type": "code",
   "execution_count": 105,
   "id": "6d2068b5-2b6e-4519-ae6d-5cb4a281f1b7",
   "metadata": {},
   "outputs": [
    {
     "data": {
      "text/plain": [
       "{'log_loss': 0.6449007323402276,\n",
       " 'roc_auc_score': 0.7002923976608187,\n",
       " 'f1_score': 0.7368421052631579,\n",
       " 'accuracy_score': 0.7297297297297297}"
      ]
     },
     "execution_count": 105,
     "metadata": {},
     "output_type": "execute_result"
    }
   ],
   "source": [
    "ModelEvaluator(eval_boy_upp_target, boy_upp_preds)"
   ]
  },
  {
   "cell_type": "code",
   "execution_count": 106,
   "id": "0a9416e7-6c47-49d4-ba96-af7176d3fbac",
   "metadata": {},
   "outputs": [],
   "source": [
    "metric_list.append(['Upper Primary Boys',ModelEvaluator(eval_boy_upp_target, boy_upp_preds)])   # run only once "
   ]
  },
  {
   "cell_type": "code",
   "execution_count": 107,
   "id": "77d1f080-2c4b-4568-9444-0719161a870c",
   "metadata": {},
   "outputs": [],
   "source": [
    "girl_upp_df = GenerateTrain(eval_upp_useful,[0,1,2,4,5])\n",
    "girl_eval_upp_df = GenerateTrain(eval_upp_useful,[0,1,2,4,5]) \n",
    "girl_upp_target = CreateTargetFeature(enrol_upper_primary,1)    #1 for girls\n",
    "girl_eval_upp_target = CreateTargetFeature(test_enrol_upper_primary, 1)"
   ]
  },
  {
   "cell_type": "code",
   "execution_count": 108,
   "id": "825d3e9e-0322-4860-b6d6-89370e8750b5",
   "metadata": {},
   "outputs": [],
   "source": [
    "DropNa(girl_upp_df, girl_upp_target)   # Run  only once\n",
    "DropNa(girl_eval_upp_df, girl_eval_upp_target)"
   ]
  },
  {
   "cell_type": "code",
   "execution_count": 109,
   "id": "4a88c837-296f-4172-b46b-1126e80325fd",
   "metadata": {},
   "outputs": [
    {
     "data": {
      "text/plain": [
       "((36,), (36, 15), (37, 15), (37,))"
      ]
     },
     "execution_count": 109,
     "metadata": {},
     "output_type": "execute_result"
    }
   ],
   "source": [
    "girl_upp_target.shape, girl_upp_df.shape, girl_eval_upp_df.shape, girl_eval_upp_target.shape"
   ]
  },
  {
   "cell_type": "code",
   "execution_count": 110,
   "id": "277f40e9-4441-49db-9dc7-5dcd12a92eda",
   "metadata": {},
   "outputs": [
    {
     "name": "stdout",
     "output_type": "stream",
     "text": [
      "1 iter\n",
      "err:  0.5962722066272362\n",
      "Лучшая функция для итерации 1 это drop_out_mean_Upper Primary_Total, а худшая это water_mean_U_Primary_With_Sec_HrSec\n",
      "2 iter\n",
      "err:  0.8213039919881001\n",
      "Лучшая функция для итерации 2 это drop_out_mean_Upper Primary_Total, а худшая это water_mean_U_Primary_With_Sec_HrSec\n",
      "3 iter\n",
      "err:  0.41630373197577464\n",
      "Лучшая функция для итерации 3 это drop_out_mean_Upper Primary_Total, а худшая это water_mean_U_Primary_Only\n",
      "4 iter\n",
      "err:  1.0135637489654692\n",
      "Лучшая функция для итерации 4 это drop_out_mean_Upper Primary_Total, а худшая это water_mean_U_Primary_With_Sec_HrSec\n",
      "5 iter\n",
      "err:  0.39089515408732645\n",
      "Лучшая функция для итерации 5 это drop_out_mean_Upper Primary_Total, а худшая это girls_mean_U_Primary_With_Sec_HrSec\n",
      "6 iter\n",
      "err:  0.5131138415487243\n",
      "Лучшая функция для итерации 6 это drop_out_mean_Upper Primary_Total, а худшая это girls_mean_U_Primary_With_Sec_HrSec\n",
      "7 iter\n",
      "err:  0.35177614997151224\n",
      "Лучшая функция для итерации 7 это drop_out_mean_Upper Primary_Total, а худшая это water_mean_U_Primary_Only\n",
      "8 iter\n",
      "err:  0.5611922794043253\n",
      "Лучшая функция для итерации 8 это drop_out_mean_Upper Primary_Total, а худшая это water_mean_U_Primary_With_Sec_HrSec\n",
      "9 iter\n",
      "err:  0.8441391194314316\n",
      "Лучшая функция для итерации 9 это drop_out_mean_Upper Primary_Total, а худшая это girls_mean_U_Primary_With_Sec_HrSec\n"
     ]
    }
   ],
   "source": [
    "girl_upp_preds = Model(girl_upp_df, girl_upp_target, girl_eval_upp_df)"
   ]
  },
  {
   "cell_type": "code",
   "execution_count": 111,
   "id": "483b5278-7669-40ff-b25f-d415a3dfbd5a",
   "metadata": {},
   "outputs": [
    {
     "data": {
      "text/plain": [
       "{'log_loss': 0.4295723805432274,\n",
       " 'roc_auc_score': 0.8771929824561404,\n",
       " 'f1_score': 0.918918918918919,\n",
       " 'accuracy_score': 0.918918918918919}"
      ]
     },
     "execution_count": 111,
     "metadata": {},
     "output_type": "execute_result"
    }
   ],
   "source": [
    "ModelEvaluator(girl_eval_upp_target, girl_upp_preds)"
   ]
  },
  {
   "cell_type": "code",
   "execution_count": 112,
   "id": "0d6ed979-3ba7-4adc-b0cd-f827cdc58da6",
   "metadata": {},
   "outputs": [],
   "source": [
    "metric_list.append(['Upper Primary Girls', ModelEvaluator(girl_eval_upp_target, girl_upp_preds)])   #run only once"
   ]
  },
  {
   "cell_type": "code",
   "execution_count": 113,
   "id": "99d42131-8ff5-43ec-a892-a01d13ebb980",
   "metadata": {},
   "outputs": [],
   "source": [
    "boy_sec_df = GenerateTrain(eval_sec_useful,[0,1,2,3,5])\n",
    "boy_eval_sec_df = GenerateTrain(eval_sec_useful,[0,1,2,3,5]) \n",
    "boy_sec_target = CreateTargetFeature(enrol_secondary,0)    #0 for boys\n",
    "boy_eval_sec_target = CreateTargetFeature(test_enrol_secondary, 0)"
   ]
  },
  {
   "cell_type": "code",
   "execution_count": 114,
   "id": "392eb547-95dd-4759-a867-e5eb883a6ec2",
   "metadata": {},
   "outputs": [],
   "source": [
    "DropNa(boy_sec_df, boy_sec_target)   # Run  only once\n",
    "DropNa(boy_eval_sec_df, boy_eval_sec_target)"
   ]
  },
  {
   "cell_type": "code",
   "execution_count": 115,
   "id": "62e5c051-3707-4297-a798-907d79782ec6",
   "metadata": {},
   "outputs": [
    {
     "data": {
      "text/plain": [
       "((36,), (36, 15), (37, 15), (37,))"
      ]
     },
     "execution_count": 115,
     "metadata": {},
     "output_type": "execute_result"
    }
   ],
   "source": [
    "boy_sec_target.shape, boy_sec_df.shape, boy_eval_sec_df.shape, boy_eval_sec_target.shape"
   ]
  },
  {
   "cell_type": "code",
   "execution_count": 116,
   "id": "9860cfd9-c348-478b-9eff-ddbb72428b05",
   "metadata": {},
   "outputs": [
    {
     "name": "stdout",
     "output_type": "stream",
     "text": [
      "1 iter\n",
      "err:  0.4933722483269917\n",
      "Лучшая функция для итерации 1 это drop_out_mean_Secondary _Girls, а худшая это elect_mean_Sec_with_HrSec.\n",
      "2 iter\n",
      "err:  0.5344265700531261\n",
      "Лучшая функция для итерации 2 это comp_mean_Sec_with_HrSec., а худшая это elect_mean_Sec_with_HrSec.\n",
      "3 iter\n",
      "err:  0.5026886592489883\n",
      "Лучшая функция для итерации 3 это water_mean_U_Primary_With_Sec, а худшая это elect_mean_Sec_with_HrSec.\n",
      "4 iter\n",
      "err:  0.39620583791754527\n",
      "Лучшая функция для итерации 4 это drop_out_mean_Secondary _Total, а худшая это elect_mean_Sec_with_HrSec.\n",
      "5 iter\n",
      "err:  0.4016951739907195\n",
      "Лучшая функция для итерации 5 это drop_out_mean_Secondary _Girls, а худшая это elect_mean_Sec_with_HrSec.\n",
      "6 iter\n",
      "err:  0.5129772170804364\n",
      "Лучшая функция для итерации 6 это drop_out_mean_Secondary _Total, а худшая это elect_mean_Sec_with_HrSec.\n",
      "7 iter\n",
      "err:  0.9578754107743152\n",
      "Лучшая функция для итерации 7 это drop_out_mean_Secondary _Girls, а худшая это elect_mean_Sec_with_HrSec.\n",
      "8 iter\n",
      "err:  0.5181175147585917\n",
      "Лучшая функция для итерации 8 это drop_out_mean_Secondary _Girls, а худшая это water_mean_Sec_with_HrSec.\n",
      "9 iter\n",
      "err:  0.726601993358616\n",
      "Лучшая функция для итерации 9 это drop_out_mean_Secondary _Girls, а худшая это water_mean_Sec_with_HrSec.\n"
     ]
    }
   ],
   "source": [
    "boy_sec_preds = Model(boy_sec_df, boy_sec_target, boy_eval_sec_df)"
   ]
  },
  {
   "cell_type": "code",
   "execution_count": 117,
   "id": "01f1bd5b-0031-4371-aea4-141016bb4eb3",
   "metadata": {},
   "outputs": [
    {
     "data": {
      "text/plain": [
       "{'log_loss': 0.30233609324151445,\n",
       " 'roc_auc_score': 0.956140350877193,\n",
       " 'f1_score': 0.918918918918919,\n",
       " 'accuracy_score': 0.918918918918919}"
      ]
     },
     "execution_count": 117,
     "metadata": {},
     "output_type": "execute_result"
    }
   ],
   "source": [
    "ModelEvaluator(boy_eval_sec_target, boy_sec_preds)"
   ]
  },
  {
   "cell_type": "code",
   "execution_count": 118,
   "id": "4fbaf0ad-9ddc-40d1-a96e-50ac9b819091",
   "metadata": {},
   "outputs": [],
   "source": [
    "metric_list.append(['Secondary Student Boys',ModelEvaluator(boy_eval_sec_target, boy_sec_preds)])   # run only once"
   ]
  },
  {
   "cell_type": "code",
   "execution_count": 119,
   "id": "261cda51-dd49-4b34-8385-da8acbfb7feb",
   "metadata": {},
   "outputs": [],
   "source": [
    "girl_sec_df = GenerateTrain(eval_sec_useful,[0,1,2,4,5])\n",
    "girl_eval_sec_df = GenerateTrain(eval_sec_useful,[0,1,2,4,5]) \n",
    "girl_sec_target = CreateTargetFeature(enrol_secondary,1)    #1 for girls\n",
    "girl_eval_sec_target = CreateTargetFeature(test_enrol_secondary,1)"
   ]
  },
  {
   "cell_type": "code",
   "execution_count": 120,
   "id": "806930ba-cb8c-424a-b553-4cf65d54c833",
   "metadata": {},
   "outputs": [],
   "source": [
    "DropNa(girl_sec_df, girl_sec_target)   # Run  only once\n",
    "DropNa(girl_eval_sec_df, girl_eval_sec_target)"
   ]
  },
  {
   "cell_type": "code",
   "execution_count": 121,
   "id": "8f45909b-ff94-44b8-9b3e-ad14212b0d41",
   "metadata": {},
   "outputs": [
    {
     "data": {
      "text/plain": [
       "((36,), (36, 15), (37, 15), (37,))"
      ]
     },
     "execution_count": 121,
     "metadata": {},
     "output_type": "execute_result"
    }
   ],
   "source": [
    "girl_sec_target.shape, girl_sec_df.shape, girl_eval_sec_df.shape, girl_eval_sec_target.shape"
   ]
  },
  {
   "cell_type": "code",
   "execution_count": 122,
   "id": "ef4b857d-31de-4c89-bb85-34957f4449e0",
   "metadata": {},
   "outputs": [
    {
     "name": "stdout",
     "output_type": "stream",
     "text": [
      "1 iter\n",
      "err:  0.39842190058571714\n",
      "Лучшая функция для итерации 1 это drop_out_mean_Secondary _Total, а худшая это comp_mean_Sec_Only\n",
      "2 iter\n",
      "err:  0.6054776106012663\n",
      "Лучшая функция для итерации 2 это drop_out_mean_Secondary _Total, а худшая это girls_mean_U_Primary_With_Sec\n",
      "3 iter\n",
      "err:  0.5453611250615421\n",
      "Лучшая функция для итерации 3 это drop_out_mean_Secondary _Girls, а худшая это comp_mean_Sec_Only\n",
      "4 iter\n",
      "err:  0.6629754367750113\n",
      "Лучшая функция для итерации 4 это water_mean_U_Primary_With_Sec, а худшая это girls_mean_Sec_with_HrSec.\n",
      "5 iter\n",
      "err:  0.5689137463658707\n",
      "Лучшая функция для итерации 5 это drop_out_mean_Secondary _Girls, а худшая это girls_mean_U_Primary_With_Sec\n",
      "6 iter\n",
      "err:  0.7615794020194899\n",
      "Лучшая функция для итерации 6 это drop_out_mean_Secondary _Girls, а худшая это elect_mean_Sec_with_HrSec.\n",
      "7 iter\n",
      "err:  0.29935110586197605\n",
      "Лучшая функция для итерации 7 это drop_out_mean_Secondary _Girls, а худшая это girls_mean_Sec_with_HrSec.\n",
      "8 iter\n",
      "err:  0.44549956629228066\n",
      "Лучшая функция для итерации 8 это drop_out_mean_Secondary _Total, а худшая это girls_mean_U_Primary_With_Sec\n",
      "9 iter\n",
      "err:  0.7492537740047498\n",
      "Лучшая функция для итерации 9 это drop_out_mean_Secondary _Girls, а худшая это girls_mean_U_Primary_With_Sec\n"
     ]
    }
   ],
   "source": [
    "girl_sec_preds = Model(girl_sec_df, girl_sec_target, girl_eval_sec_df)"
   ]
  },
  {
   "cell_type": "code",
   "execution_count": 123,
   "id": "659273f0-d80c-4b87-bf78-fc9da2b63fda",
   "metadata": {},
   "outputs": [
    {
     "data": {
      "text/plain": [
       "{'log_loss': 0.3879140342622945,\n",
       " 'roc_auc_score': 0.8976608187134503,\n",
       " 'f1_score': 0.8648648648648649,\n",
       " 'accuracy_score': 0.8648648648648649}"
      ]
     },
     "execution_count": 123,
     "metadata": {},
     "output_type": "execute_result"
    }
   ],
   "source": [
    "ModelEvaluator(girl_eval_sec_target, girl_sec_preds)"
   ]
  },
  {
   "cell_type": "code",
   "execution_count": 124,
   "id": "2ca987aa-08ae-4068-a61a-8b0616a1e900",
   "metadata": {},
   "outputs": [],
   "source": [
    "metric_list.append(['Secondary Student Girls', ModelEvaluator(girl_eval_sec_target, girl_sec_preds)])   #run only once"
   ]
  },
  {
   "cell_type": "code",
   "execution_count": 125,
   "id": "033f6938-10e9-4ad3-b077-101e6adf7209",
   "metadata": {},
   "outputs": [],
   "source": [
    "boy_high_df = GenerateTrain(eval_high_useful,[0,1,2,3,5])\n",
    "boy_eval_high_df = GenerateTrain(eval_high_useful,[0,1,2,3,5]) \n",
    "boy_high_target = CreateTargetFeature(enrol_higher,0)    #0 for boys\n",
    "boy_eval_high_target = CreateTargetFeature(test_enrol_higher, 0)"
   ]
  },
  {
   "cell_type": "code",
   "execution_count": 126,
   "id": "90a6e2a6-5070-4ba3-991d-3ca046451623",
   "metadata": {},
   "outputs": [],
   "source": [
    "DropNa(boy_high_df, boy_high_target)   # Run  only once\n",
    "DropNa(boy_eval_high_df, boy_eval_high_target)"
   ]
  },
  {
   "cell_type": "code",
   "execution_count": 127,
   "id": "c318963d-17f6-49cc-be35-381a97590056",
   "metadata": {},
   "outputs": [
    {
     "data": {
      "text/plain": [
       "((36,), (36, 11), (37, 11), (37,))"
      ]
     },
     "execution_count": 127,
     "metadata": {},
     "output_type": "execute_result"
    }
   ],
   "source": [
    "boy_high_target.shape, boy_high_df.shape, boy_eval_high_df.shape, boy_eval_high_target.shape"
   ]
  },
  {
   "cell_type": "code",
   "execution_count": 128,
   "id": "fdc76d49-59db-4c21-a1c9-84d62bf9cf6e",
   "metadata": {},
   "outputs": [
    {
     "name": "stdout",
     "output_type": "stream",
     "text": [
      "1 iter\n",
      "err:  0.8569551641956494\n",
      "Лучшая функция для итерации 1 это elect_mean_All Schools, а худшая это boys_mean_HrSec_Only\n",
      "2 iter\n",
      "err:  0.40213158201335575\n",
      "Лучшая функция для итерации 2 это water_mean_All Schools, а худшая это boys_mean_HrSec_Only\n",
      "3 iter\n",
      "err:  0.9898572819563543\n",
      "Лучшая функция для итерации 3 это water_mean_All Schools, а худшая это boys_mean_HrSec_Only\n",
      "4 iter\n",
      "err:  0.8006522131010823\n",
      "Лучшая функция для итерации 4 это water_mean_All Schools, а худшая это boys_mean_HrSec_Only\n",
      "5 iter\n",
      "err:  0.454332065638171\n",
      "Лучшая функция для итерации 5 это water_mean_All Schools, а худшая это boys_mean_HrSec_Only\n",
      "6 iter\n",
      "err:  0.35163243050793935\n",
      "Лучшая функция для итерации 6 это water_mean_All Schools, а худшая это boys_mean_HrSec_Only\n",
      "7 iter\n",
      "err:  0.6980493300902096\n",
      "Лучшая функция для итерации 7 это water_mean_All Schools, а худшая это boys_mean_HrSec_Only\n",
      "8 iter\n",
      "err:  0.7690350119640602\n",
      "Лучшая функция для итерации 8 это elect_mean_All Schools, а худшая это boys_mean_HrSec_Only\n",
      "9 iter\n",
      "err:  0.6321275021796597\n",
      "Лучшая функция для итерации 9 это water_mean_All Schools, а худшая это boys_mean_HrSec_Only\n"
     ]
    }
   ],
   "source": [
    "boy_high_preds = Model(boy_high_df, boy_high_target, boy_eval_high_df)"
   ]
  },
  {
   "cell_type": "code",
   "execution_count": 129,
   "id": "003e6cbf-dfb8-484d-9f6f-fdb8ac10474e",
   "metadata": {},
   "outputs": [
    {
     "data": {
      "text/plain": [
       "{'log_loss': 0.36521221801659054,\n",
       " 'roc_auc_score': 0.9327485380116959,\n",
       " 'f1_score': 0.8648648648648649,\n",
       " 'accuracy_score': 0.8648648648648649}"
      ]
     },
     "execution_count": 129,
     "metadata": {},
     "output_type": "execute_result"
    }
   ],
   "source": [
    "ModelEvaluator(boy_eval_high_target, boy_high_preds)"
   ]
  },
  {
   "cell_type": "code",
   "execution_count": 130,
   "id": "673e5f03-cf35-4a1d-9c42-9bfc35e6099c",
   "metadata": {},
   "outputs": [],
   "source": [
    "metric_list.append(['Higher Secondary Student Boys', ModelEvaluator(boy_eval_high_target, boy_high_preds)])  # run only once"
   ]
  },
  {
   "cell_type": "code",
   "execution_count": 131,
   "id": "aef1b0e3-18c9-4ea2-bd2c-5ce617b3f66b",
   "metadata": {},
   "outputs": [],
   "source": [
    "girl_high_df = GenerateTrain(eval_high_useful,[0,1,2,4,5])\n",
    "girl_eval_high_df = GenerateTrain(eval_high_useful,[0,1,2,4,5]) \n",
    "girl_high_target = CreateTargetFeature(enrol_higher,1)    #1 for girls\n",
    "girl_eval_high_target = CreateTargetFeature(test_enrol_higher,1)"
   ]
  },
  {
   "cell_type": "code",
   "execution_count": 132,
   "id": "572cfab5-3578-43e4-a0ce-906e260ae065",
   "metadata": {},
   "outputs": [],
   "source": [
    "DropNa(girl_high_df, girl_high_target)   # Run  only once\n",
    "DropNa(girl_eval_high_df, girl_eval_high_target)"
   ]
  },
  {
   "cell_type": "code",
   "execution_count": 133,
   "id": "7162edd1-4615-4375-a7fb-98558ee6075d",
   "metadata": {},
   "outputs": [
    {
     "data": {
      "text/plain": [
       "((36,), (36, 11), (37, 11), (37,))"
      ]
     },
     "execution_count": 133,
     "metadata": {},
     "output_type": "execute_result"
    }
   ],
   "source": [
    "girl_high_target.shape, girl_high_df.shape, girl_eval_high_df.shape, girl_eval_high_target.shape"
   ]
  },
  {
   "cell_type": "code",
   "execution_count": 134,
   "id": "d4a7c1de-64c9-41eb-8192-09a79b7961c8",
   "metadata": {},
   "outputs": [
    {
     "name": "stdout",
     "output_type": "stream",
     "text": [
      "1 iter\n",
      "err:  0.5107006550055779\n",
      "Лучшая функция для итерации 1 это comp_mean_All Schools, а худшая это girls_mean_HrSec_Only\n",
      "2 iter\n",
      "err:  0.09428356098502574\n",
      "Лучшая функция для итерации 2 это comp_mean_All Schools, а худшая это girls_mean_HrSec_Only\n",
      "3 iter\n",
      "err:  0.8340772304400742\n",
      "Лучшая функция для итерации 3 это comp_mean_All Schools, а худшая это girls_mean_HrSec_Only\n",
      "4 iter\n",
      "err:  0.6627719516181929\n",
      "Лучшая функция для итерации 4 это comp_mean_All Schools, а худшая это girls_mean_HrSec_Only\n",
      "5 iter\n",
      "err:  0.4075530529126443\n",
      "Лучшая функция для итерации 5 это comp_mean_All Schools, а худшая это girls_mean_HrSec_Only\n",
      "6 iter\n",
      "err:  1.0978181114398482\n",
      "Лучшая функция для итерации 6 это comp_mean_All Schools, а худшая это girls_mean_HrSec_Only\n",
      "7 iter\n",
      "err:  0.42510679769823856\n",
      "Лучшая функция для итерации 7 это comp_mean_All Schools, а худшая это girls_mean_HrSec_Only\n",
      "8 iter\n",
      "err:  0.2895342499957351\n",
      "Лучшая функция для итерации 8 это elect_mean_All Schools, а худшая это girls_mean_HrSec_Only\n",
      "9 iter\n",
      "err:  1.1339110308348703\n",
      "Лучшая функция для итерации 9 это comp_mean_All Schools, а худшая это girls_mean_HrSec_Only\n"
     ]
    }
   ],
   "source": [
    "girl_high_preds = Model(girl_high_df, girl_high_target, girl_eval_high_df)"
   ]
  },
  {
   "cell_type": "code",
   "execution_count": 135,
   "id": "4c4bf495-5ada-4779-a678-151071d14482",
   "metadata": {},
   "outputs": [
    {
     "data": {
      "text/plain": [
       "{'log_loss': 0.37865114816021334,\n",
       " 'roc_auc_score': 0.9093567251461989,\n",
       " 'f1_score': 0.8648648648648649,\n",
       " 'accuracy_score': 0.8648648648648649}"
      ]
     },
     "execution_count": 135,
     "metadata": {},
     "output_type": "execute_result"
    }
   ],
   "source": [
    "ModelEvaluator(girl_eval_high_target, girl_high_preds)"
   ]
  },
  {
   "cell_type": "code",
   "execution_count": 136,
   "id": "4a1e6e40-6662-4e22-a1dc-e4defb5f10c9",
   "metadata": {},
   "outputs": [],
   "source": [
    "metric_list.append(['Higher Secondary Student Girls', ModelEvaluator(girl_eval_high_target, girl_high_preds)])  # run only once"
   ]
  },
  {
   "cell_type": "code",
   "execution_count": 137,
   "id": "ec565efb-86b6-4853-a6fc-dbdcbd233e42",
   "metadata": {},
   "outputs": [
    {
     "data": {
      "text/plain": [
       "8"
      ]
     },
     "execution_count": 137,
     "metadata": {},
     "output_type": "execute_result"
    }
   ],
   "source": [
    "len(metric_list)   # should be 8"
   ]
  },
  {
   "cell_type": "code",
   "execution_count": 138,
   "id": "624c53cc-d336-4f51-b7ae-595d6b36affd",
   "metadata": {},
   "outputs": [],
   "source": [
    "student_type = pd.Series( [i[0] for i in metric_list], name='student_type' )\n",
    "log_loss_metric = pd.Series( [i[1]['log_loss'] for i in metric_list], name='log_loss' )\n",
    "roc_auc_score_metric = pd.Series( [i[1]['roc_auc_score'] for i in metric_list], name='roc_auc_score' )\n",
    "f1_score_metric = pd.Series( [i[1]['f1_score'] for i in metric_list], name='f1_score' )\n",
    "accuracy_metric = pd.Series( [i[1]['accuracy_score'] for i in metric_list], name='accuracy_score' )\n",
    "metric_df = pd.DataFrame(pd.concat([student_type, log_loss_metric, roc_auc_score_metric, f1_score_metric, accuracy_metric], axis=1)).set_index('student_type')"
   ]
  },
  {
   "cell_type": "code",
   "execution_count": 139,
   "id": "dbc7984f-bd77-496a-8b2d-a9a86ca0fc97",
   "metadata": {},
   "outputs": [
    {
     "data": {
      "text/html": [
       "<div>\n",
       "<style scoped>\n",
       "    .dataframe tbody tr th:only-of-type {\n",
       "        vertical-align: middle;\n",
       "    }\n",
       "\n",
       "    .dataframe tbody tr th {\n",
       "        vertical-align: top;\n",
       "    }\n",
       "\n",
       "    .dataframe thead th {\n",
       "        text-align: right;\n",
       "    }\n",
       "</style>\n",
       "<table border=\"1\" class=\"dataframe\">\n",
       "  <thead>\n",
       "    <tr style=\"text-align: right;\">\n",
       "      <th></th>\n",
       "      <th>log_loss</th>\n",
       "      <th>roc_auc_score</th>\n",
       "      <th>f1_score</th>\n",
       "      <th>accuracy_score</th>\n",
       "    </tr>\n",
       "    <tr>\n",
       "      <th>student_type</th>\n",
       "      <th></th>\n",
       "      <th></th>\n",
       "      <th></th>\n",
       "      <th></th>\n",
       "    </tr>\n",
       "  </thead>\n",
       "  <tbody>\n",
       "    <tr>\n",
       "      <th>Primary Student Boys</th>\n",
       "      <td>0.456566</td>\n",
       "      <td>0.855263</td>\n",
       "      <td>0.842105</td>\n",
       "      <td>0.837838</td>\n",
       "    </tr>\n",
       "    <tr>\n",
       "      <th>Primary Student Girls</th>\n",
       "      <td>0.447085</td>\n",
       "      <td>0.874269</td>\n",
       "      <td>0.842105</td>\n",
       "      <td>0.837838</td>\n",
       "    </tr>\n",
       "    <tr>\n",
       "      <th>Upper Primary Boys</th>\n",
       "      <td>0.644901</td>\n",
       "      <td>0.700292</td>\n",
       "      <td>0.736842</td>\n",
       "      <td>0.729730</td>\n",
       "    </tr>\n",
       "    <tr>\n",
       "      <th>Upper Primary Girls</th>\n",
       "      <td>0.429572</td>\n",
       "      <td>0.877193</td>\n",
       "      <td>0.918919</td>\n",
       "      <td>0.918919</td>\n",
       "    </tr>\n",
       "    <tr>\n",
       "      <th>Secondary Student Boys</th>\n",
       "      <td>0.302336</td>\n",
       "      <td>0.956140</td>\n",
       "      <td>0.918919</td>\n",
       "      <td>0.918919</td>\n",
       "    </tr>\n",
       "    <tr>\n",
       "      <th>Secondary Student Girls</th>\n",
       "      <td>0.387914</td>\n",
       "      <td>0.897661</td>\n",
       "      <td>0.864865</td>\n",
       "      <td>0.864865</td>\n",
       "    </tr>\n",
       "    <tr>\n",
       "      <th>Higher Secondary Student Boys</th>\n",
       "      <td>0.365212</td>\n",
       "      <td>0.932749</td>\n",
       "      <td>0.864865</td>\n",
       "      <td>0.864865</td>\n",
       "    </tr>\n",
       "    <tr>\n",
       "      <th>Higher Secondary Student Girls</th>\n",
       "      <td>0.378651</td>\n",
       "      <td>0.909357</td>\n",
       "      <td>0.864865</td>\n",
       "      <td>0.864865</td>\n",
       "    </tr>\n",
       "  </tbody>\n",
       "</table>\n",
       "</div>"
      ],
      "text/plain": [
       "                                log_loss  roc_auc_score  f1_score  \\\n",
       "student_type                                                        \n",
       "Primary Student Boys            0.456566       0.855263  0.842105   \n",
       "Primary Student Girls           0.447085       0.874269  0.842105   \n",
       "Upper Primary Boys              0.644901       0.700292  0.736842   \n",
       "Upper Primary Girls             0.429572       0.877193  0.918919   \n",
       "Secondary Student Boys          0.302336       0.956140  0.918919   \n",
       "Secondary Student Girls         0.387914       0.897661  0.864865   \n",
       "Higher Secondary Student Boys   0.365212       0.932749  0.864865   \n",
       "Higher Secondary Student Girls  0.378651       0.909357  0.864865   \n",
       "\n",
       "                                accuracy_score  \n",
       "student_type                                    \n",
       "Primary Student Boys                  0.837838  \n",
       "Primary Student Girls                 0.837838  \n",
       "Upper Primary Boys                    0.729730  \n",
       "Upper Primary Girls                   0.918919  \n",
       "Secondary Student Boys                0.918919  \n",
       "Secondary Student Girls               0.864865  \n",
       "Higher Secondary Student Boys         0.864865  \n",
       "Higher Secondary Student Girls        0.864865  "
      ]
     },
     "execution_count": 139,
     "metadata": {},
     "output_type": "execute_result"
    }
   ],
   "source": [
    "metric_df"
   ]
  },
  {
   "cell_type": "code",
   "execution_count": 140,
   "id": "08825f2e-4061-4e49-b313-d203f7607991",
   "metadata": {},
   "outputs": [
    {
     "data": {
      "text/plain": [
       "<Axes: title={'center': 'Метрики'}, xlabel='student_type'>"
      ]
     },
     "execution_count": 140,
     "metadata": {},
     "output_type": "execute_result"
    },
    {
     "data": {
      "image/png": "[encoded data removed]",
      "text/plain": [
       "<Figure size 2700x700 with 1 Axes>"
      ]
     },
     "metadata": {},
     "output_type": "display_data"
    }
   ],
   "source": [
    "metric_df.plot(kind='bar', figsize=(27,7), title='Метрики')"
   ]
  }
 ],
 "metadata": {
  "kernelspec": {
   "display_name": "Python 3 (ipykernel)",
   "language": "python",
   "name": "python3"
  },
  "language_info": {
   "codemirror_mode": {
    "name": "ipython",
    "version": 3
   },
   "file_extension": ".py",
   "mimetype": "text/x-python",
   "name": "python",
   "nbconvert_exporter": "python",
   "pygments_lexer": "ipython3",
   "version": "3.9.16"
  }
 },
 "nbformat": 4,
 "nbformat_minor": 5
}
