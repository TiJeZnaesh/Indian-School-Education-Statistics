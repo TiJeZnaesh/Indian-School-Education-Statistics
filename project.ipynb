{
 "cells": [
  {
   "cell_type": "markdown",
   "id": "d8b15e88-8492-47b4-9867-b43e4cf0dd6a",
   "metadata": {},
   "source": [
    "## Indian School Education Statistics\n",
    "https://www.kaggle.com/datasets/vidyapb/indian-school-education-statistics\n",
    "\n",
    "Данный проект имеет задачу прогнозирования валового охвата в 2015-2016 годах с использованием данных сессии 2012-2015 годов, таких как процент отсева, наличие воды и компьютерного оборудования. Решение задачи основано на проблеме классификации, где общее количество учащихся разделено на две группы.\n",
    "\n",
    "Ниже приведены этапы, выполненные в данном проекте:\n",
    "\n",
    "1. Импортируются необходимые библиотеки и загружаются данные из CSV-файлов.\n",
    "2. Выполняется предварительная обработка данных, включая исправление имен штатов и заполнение пропущенных значений с помощью метода SimpleImputer.\n",
    "3. Данные о проценте отсева обрабатываются для создания средних значений для каждого типа учащихся и уровня образования (первичное, среднее, старшее и высшее).\n",
    "4. Аналогичные шаги выполняются для данных о наличии воды, компьютерного оборудования, электричества и туалетов для мальчиков и девочек.\n",
    "5. Создаются наборы данных для каждого уровня образования, объединяя средние значения различных параметров.\n",
    "6. Подготавливаются наборы данных для оценки, включая данные за 2015-2016 годы.\n",
    "7. Строятся модели машинного обучения для каждого уровня образования, в данном случае Random Forest Classifier.\n",
    "8. Оценивается производительность моделей с помощью различных метрик, таких как accuracy score, roc-auc score, precision score, log loss, f1 score и mean squared error."
   ]
  },
  {
   "cell_type": "code",
   "execution_count": 1,
   "id": "4d91cdfe-038c-42f1-ae27-c44a35523796",
   "metadata": {},
   "outputs": [],
   "source": [
    "#нужно для того, что бы скрывать ворнинги \n",
    "import warnings\n",
    "warnings.filterwarnings('ignore')\n",
    "\n",
    "import pandas as pd\n",
    "import numpy as np\n",
    "import matplotlib.pyplot as plt\n",
    "import seaborn as sns\n",
    "from sklearn.impute import SimpleImputer #нужно для заполнения пропусков\n",
    "from sklearn.model_selection import train_test_split #для создания подвыборок\n",
    "from sklearn.ensemble import RandomForestClassifier\n",
    "from sklearn.model_selection import StratifiedKFold, KFold #кроссвалидация\n",
    "from sklearn.metrics import accuracy_score, roc_auc_score, precision_score, log_loss, f1_score, mean_squared_error"
   ]
  },
  {
   "cell_type": "code",
   "execution_count": null,
   "id": "3efee2ef-8eba-43de-92fa-a7a66a365bb6",
   "metadata": {},
   "outputs": [],
   "source": []
  }
 ],
 "metadata": {
  "kernelspec": {
   "display_name": "Python 3 (ipykernel)",
   "language": "python",
   "name": "python3"
  },
  "language_info": {
   "codemirror_mode": {
    "name": "ipython",
    "version": 3
   },
   "file_extension": ".py",
   "mimetype": "text/x-python",
   "name": "python",
   "nbconvert_exporter": "python",
   "pygments_lexer": "ipython3",
   "version": "3.9.16"
  }
 },
 "nbformat": 4,
 "nbformat_minor": 5
}
